{
 "cells": [
  {
   "cell_type": "code",
   "execution_count": 48,
   "id": "4451a55e-5bbb-48e9-afb8-09703f31b911",
   "metadata": {},
   "outputs": [
    {
     "name": "stdout",
     "output_type": "stream",
     "text": [
      "Problem 1, A-C:\n",
      "This website was used for this part: https://www.geeksforgeeks.org/working-csv-files-python/\n",
      "This website also helpped for collections: https://docs.python.org/3/library/collections.html#collections.Counter\n",
      "\n",
      "(c):\n",
      "There are  165  unique items in our list, not counting numbers or white spaces\n",
      "There are  8000  records in our dataset\n",
      "The most frequent item is:  whole milk  with  1338  items\n"
     ]
    }
   ],
   "source": [
    "import csv\n",
    "from collections import Counter\n",
    "\n",
    "print(\"Problem 1, A-C:\")\n",
    "print(\"This website was used for this part: https://www.geeksforgeeks.org/working-csv-files-python/\")\n",
    "print(\"This website also helpped for collections: https://docs.python.org/3/library/collections.html#collections.Counter\\n\")\n",
    "\n",
    "filename = r\"C:\\Users\\colin\\Downloads\\Grocery_Items_7.csv\"\n",
    "fields = []\n",
    "dataset = []\n",
    "flattened_items = []\n",
    "filtered_items = []\n",
    "\n",
    "with open(filename, 'r') as csvfile:\n",
    "    csvreader = csv.reader(csvfile)\n",
    "    fields = next(csvreader)\n",
    "    for row in csvreader:\n",
    "        dataset.append(row)\n",
    "    \n",
    "for row in dataset:\n",
    "    for item in row:\n",
    "        flattened_items.append(item)\n",
    "\n",
    "for item in flattened_items:\n",
    "    stripped_item = item.strip()\n",
    "    if not stripped_item.isdigit() and stripped_item:\n",
    "        filtered_items.append(item)\n",
    "\n",
    "unique_items = set(filtered_items)\n",
    "number_of_unique_items = len(unique_items)\n",
    "\n",
    "counter = Counter(filtered_items)\n",
    "most_frequent_item, count = counter.most_common(1)[0]\n",
    "\n",
    "print(\"(c):\")\n",
    "print(\"There are \", number_of_unique_items, \" unique items in our list, not counting numbers or white spaces\")\n",
    "print(\"There are \", len(dataset), \" records in our dataset\")\n",
    "print(\"The most frequent item is: \", most_frequent_item, \" with \", count, \" items\")"
   ]
  },
  {
   "cell_type": "code",
   "execution_count": 66,
   "id": "12815484-bc38-4148-8a69-842473070c54",
   "metadata": {},
   "outputs": [
    {
     "name": "stdout",
     "output_type": "stream",
     "text": [
      "Problem 1, D:\n",
      "This website was used for this section: http://rasbt.github.io/mlxtend/user_guide/frequent_patterns/association_rules/\n",
      "\n",
      "(d):\n",
      "     support                        itemsets\n",
      "0   0.097125                          (soda)\n",
      "1   0.068875                (tropical fruit)\n",
      "2   0.039000                    (newspapers)\n",
      "3   0.111000                    (rolls/buns)\n",
      "4   0.061250                 (bottled water)\n",
      "..       ...                             ...\n",
      "62  0.012750              (whole milk, soda)\n",
      "63  0.014375        (rolls/buns, whole milk)\n",
      "64  0.011250  (rolls/buns, other vegetables)\n",
      "65  0.011500            (whole milk, yogurt)\n",
      "66  0.014250  (whole milk, other vegetables)\n",
      "\n",
      "[67 rows x 2 columns]\n"
     ]
    },
    {
     "data": {
      "text/html": [
       "<div>\n",
       "<style scoped>\n",
       "    .dataframe tbody tr th:only-of-type {\n",
       "        vertical-align: middle;\n",
       "    }\n",
       "\n",
       "    .dataframe tbody tr th {\n",
       "        vertical-align: top;\n",
       "    }\n",
       "\n",
       "    .dataframe thead th {\n",
       "        text-align: right;\n",
       "    }\n",
       "</style>\n",
       "<table border=\"1\" class=\"dataframe\">\n",
       "  <thead>\n",
       "    <tr style=\"text-align: right;\">\n",
       "      <th></th>\n",
       "      <th>antecedents</th>\n",
       "      <th>consequents</th>\n",
       "      <th>antecedent support</th>\n",
       "      <th>consequent support</th>\n",
       "      <th>support</th>\n",
       "      <th>confidence</th>\n",
       "      <th>lift</th>\n",
       "      <th>representativity</th>\n",
       "      <th>leverage</th>\n",
       "      <th>conviction</th>\n",
       "      <th>zhangs_metric</th>\n",
       "      <th>jaccard</th>\n",
       "      <th>certainty</th>\n",
       "      <th>kulczynski</th>\n",
       "    </tr>\n",
       "  </thead>\n",
       "  <tbody>\n",
       "    <tr>\n",
       "      <th>0</th>\n",
       "      <td>(whole milk)</td>\n",
       "      <td>(soda)</td>\n",
       "      <td>0.158000</td>\n",
       "      <td>0.097125</td>\n",
       "      <td>0.012750</td>\n",
       "      <td>0.080696</td>\n",
       "      <td>0.830849</td>\n",
       "      <td>1.0</td>\n",
       "      <td>-0.002596</td>\n",
       "      <td>0.982129</td>\n",
       "      <td>-0.194712</td>\n",
       "      <td>0.052604</td>\n",
       "      <td>-0.018196</td>\n",
       "      <td>0.105985</td>\n",
       "    </tr>\n",
       "    <tr>\n",
       "      <th>1</th>\n",
       "      <td>(soda)</td>\n",
       "      <td>(whole milk)</td>\n",
       "      <td>0.097125</td>\n",
       "      <td>0.158000</td>\n",
       "      <td>0.012750</td>\n",
       "      <td>0.131274</td>\n",
       "      <td>0.830849</td>\n",
       "      <td>1.0</td>\n",
       "      <td>-0.002596</td>\n",
       "      <td>0.969236</td>\n",
       "      <td>-0.183999</td>\n",
       "      <td>0.052604</td>\n",
       "      <td>-0.031741</td>\n",
       "      <td>0.105985</td>\n",
       "    </tr>\n",
       "    <tr>\n",
       "      <th>2</th>\n",
       "      <td>(rolls/buns)</td>\n",
       "      <td>(whole milk)</td>\n",
       "      <td>0.111000</td>\n",
       "      <td>0.158000</td>\n",
       "      <td>0.014375</td>\n",
       "      <td>0.129505</td>\n",
       "      <td>0.819649</td>\n",
       "      <td>1.0</td>\n",
       "      <td>-0.003163</td>\n",
       "      <td>0.967265</td>\n",
       "      <td>-0.198402</td>\n",
       "      <td>0.056456</td>\n",
       "      <td>-0.033843</td>\n",
       "      <td>0.110243</td>\n",
       "    </tr>\n",
       "    <tr>\n",
       "      <th>3</th>\n",
       "      <td>(whole milk)</td>\n",
       "      <td>(rolls/buns)</td>\n",
       "      <td>0.158000</td>\n",
       "      <td>0.111000</td>\n",
       "      <td>0.014375</td>\n",
       "      <td>0.090981</td>\n",
       "      <td>0.819649</td>\n",
       "      <td>1.0</td>\n",
       "      <td>-0.003163</td>\n",
       "      <td>0.977977</td>\n",
       "      <td>-0.207182</td>\n",
       "      <td>0.056456</td>\n",
       "      <td>-0.022519</td>\n",
       "      <td>0.110243</td>\n",
       "    </tr>\n",
       "    <tr>\n",
       "      <th>4</th>\n",
       "      <td>(rolls/buns)</td>\n",
       "      <td>(other vegetables)</td>\n",
       "      <td>0.111000</td>\n",
       "      <td>0.118250</td>\n",
       "      <td>0.011250</td>\n",
       "      <td>0.101351</td>\n",
       "      <td>0.857094</td>\n",
       "      <td>1.0</td>\n",
       "      <td>-0.001876</td>\n",
       "      <td>0.981195</td>\n",
       "      <td>-0.157931</td>\n",
       "      <td>0.051606</td>\n",
       "      <td>-0.019165</td>\n",
       "      <td>0.098244</td>\n",
       "    </tr>\n",
       "    <tr>\n",
       "      <th>5</th>\n",
       "      <td>(other vegetables)</td>\n",
       "      <td>(rolls/buns)</td>\n",
       "      <td>0.118250</td>\n",
       "      <td>0.111000</td>\n",
       "      <td>0.011250</td>\n",
       "      <td>0.095137</td>\n",
       "      <td>0.857094</td>\n",
       "      <td>1.0</td>\n",
       "      <td>-0.001876</td>\n",
       "      <td>0.982470</td>\n",
       "      <td>-0.159023</td>\n",
       "      <td>0.051606</td>\n",
       "      <td>-0.017843</td>\n",
       "      <td>0.098244</td>\n",
       "    </tr>\n",
       "    <tr>\n",
       "      <th>6</th>\n",
       "      <td>(yogurt)</td>\n",
       "      <td>(whole milk)</td>\n",
       "      <td>0.087750</td>\n",
       "      <td>0.158000</td>\n",
       "      <td>0.011500</td>\n",
       "      <td>0.131054</td>\n",
       "      <td>0.829457</td>\n",
       "      <td>1.0</td>\n",
       "      <td>-0.002365</td>\n",
       "      <td>0.968990</td>\n",
       "      <td>-0.183931</td>\n",
       "      <td>0.049093</td>\n",
       "      <td>-0.032002</td>\n",
       "      <td>0.101919</td>\n",
       "    </tr>\n",
       "    <tr>\n",
       "      <th>7</th>\n",
       "      <td>(whole milk)</td>\n",
       "      <td>(other vegetables)</td>\n",
       "      <td>0.158000</td>\n",
       "      <td>0.118250</td>\n",
       "      <td>0.014250</td>\n",
       "      <td>0.090190</td>\n",
       "      <td>0.762705</td>\n",
       "      <td>1.0</td>\n",
       "      <td>-0.004433</td>\n",
       "      <td>0.969158</td>\n",
       "      <td>-0.269809</td>\n",
       "      <td>0.054389</td>\n",
       "      <td>-0.031823</td>\n",
       "      <td>0.105349</td>\n",
       "    </tr>\n",
       "    <tr>\n",
       "      <th>8</th>\n",
       "      <td>(other vegetables)</td>\n",
       "      <td>(whole milk)</td>\n",
       "      <td>0.118250</td>\n",
       "      <td>0.158000</td>\n",
       "      <td>0.014250</td>\n",
       "      <td>0.120507</td>\n",
       "      <td>0.762705</td>\n",
       "      <td>1.0</td>\n",
       "      <td>-0.004433</td>\n",
       "      <td>0.957370</td>\n",
       "      <td>-0.260818</td>\n",
       "      <td>0.054389</td>\n",
       "      <td>-0.044528</td>\n",
       "      <td>0.105349</td>\n",
       "    </tr>\n",
       "  </tbody>\n",
       "</table>\n",
       "</div>"
      ],
      "text/plain": [
       "          antecedents         consequents  antecedent support  \\\n",
       "0        (whole milk)              (soda)            0.158000   \n",
       "1              (soda)        (whole milk)            0.097125   \n",
       "2        (rolls/buns)        (whole milk)            0.111000   \n",
       "3        (whole milk)        (rolls/buns)            0.158000   \n",
       "4        (rolls/buns)  (other vegetables)            0.111000   \n",
       "5  (other vegetables)        (rolls/buns)            0.118250   \n",
       "6            (yogurt)        (whole milk)            0.087750   \n",
       "7        (whole milk)  (other vegetables)            0.158000   \n",
       "8  (other vegetables)        (whole milk)            0.118250   \n",
       "\n",
       "   consequent support   support  confidence      lift  representativity  \\\n",
       "0            0.097125  0.012750    0.080696  0.830849               1.0   \n",
       "1            0.158000  0.012750    0.131274  0.830849               1.0   \n",
       "2            0.158000  0.014375    0.129505  0.819649               1.0   \n",
       "3            0.111000  0.014375    0.090981  0.819649               1.0   \n",
       "4            0.118250  0.011250    0.101351  0.857094               1.0   \n",
       "5            0.111000  0.011250    0.095137  0.857094               1.0   \n",
       "6            0.158000  0.011500    0.131054  0.829457               1.0   \n",
       "7            0.118250  0.014250    0.090190  0.762705               1.0   \n",
       "8            0.158000  0.014250    0.120507  0.762705               1.0   \n",
       "\n",
       "   leverage  conviction  zhangs_metric   jaccard  certainty  kulczynski  \n",
       "0 -0.002596    0.982129      -0.194712  0.052604  -0.018196    0.105985  \n",
       "1 -0.002596    0.969236      -0.183999  0.052604  -0.031741    0.105985  \n",
       "2 -0.003163    0.967265      -0.198402  0.056456  -0.033843    0.110243  \n",
       "3 -0.003163    0.977977      -0.207182  0.056456  -0.022519    0.110243  \n",
       "4 -0.001876    0.981195      -0.157931  0.051606  -0.019165    0.098244  \n",
       "5 -0.001876    0.982470      -0.159023  0.051606  -0.017843    0.098244  \n",
       "6 -0.002365    0.968990      -0.183931  0.049093  -0.032002    0.101919  \n",
       "7 -0.004433    0.969158      -0.269809  0.054389  -0.031823    0.105349  \n",
       "8 -0.004433    0.957370      -0.260818  0.054389  -0.044528    0.105349  "
      ]
     },
     "execution_count": 66,
     "metadata": {},
     "output_type": "execute_result"
    }
   ],
   "source": [
    "import pandas as pd\n",
    "from mlxtend.preprocessing import TransactionEncoder\n",
    "from mlxtend.frequent_patterns import apriori, fpmax, fpgrowth\n",
    "from mlxtend.frequent_patterns import association_rules\n",
    "\n",
    "print(\"Problem 1, D:\")\n",
    "print(\"This website was used for this section: http://rasbt.github.io/mlxtend/user_guide/frequent_patterns/association_rules/\\n\")\n",
    "\n",
    "dataset_without_empty_spaces = [] \n",
    "\n",
    "for transaction in dataset:  \n",
    "    list_without_empty_spaces = []  \n",
    "    for item in transaction: \n",
    "        if item: \n",
    "            list_without_empty_spaces.append(item) \n",
    "    dataset_without_empty_spaces.append(list_without_empty_spaces)\n",
    "\n",
    "te = TransactionEncoder()\n",
    "te_ary = te.fit(dataset_without_empty_spaces).transform(dataset_without_empty_spaces)\n",
    "df = pd.DataFrame(te_ary, columns=te.columns_)\n",
    "\n",
    "frequent_itemsets = fpgrowth(df, min_support=0.01, use_colnames=True)\n",
    "#frequent_itemsets = apriori(df, min_support=0.01, use_colnames=True)\n",
    "#frequent_itemsets = fpmax(df, min_support=0.01, use_colnames=True)\n",
    "\n",
    "print(\"(d):\")\n",
    "print(frequent_itemsets)\n",
    "\n",
    "num_itemsets = len(frequent_itemsets)\n",
    "association_rules(frequent_itemsets, num_itemsets=num_itemsets, metric=\"confidence\", min_threshold=0.08)"
   ]
  },
  {
   "cell_type": "code",
   "execution_count": 80,
   "id": "a279857e-90db-46a1-80a2-04c9db753404",
   "metadata": {},
   "outputs": [
    {
     "name": "stdout",
     "output_type": "stream",
     "text": [
      "      support                            itemsets\n",
      "0    0.097125                              (soda)\n",
      "1    0.068875                    (tropical fruit)\n",
      "2    0.039000                        (newspapers)\n",
      "3    0.111000                        (rolls/buns)\n",
      "4    0.061250                     (bottled water)\n",
      "..        ...                                 ...\n",
      "773  0.001625  (long life bakery product, yogurt)\n",
      "774  0.001250    (long life bakery product, pork)\n",
      "775  0.001375    (long life bakery product, soda)\n",
      "776  0.001000          (dish cleaner, whole milk)\n",
      "777  0.001125                (whole milk, brandy)\n",
      "\n",
      "[778 rows x 2 columns]\n",
      "506\n",
      "      support                             itemsets\n",
      "0    0.097125                               (soda)\n",
      "1    0.068875                     (tropical fruit)\n",
      "2    0.039000                         (newspapers)\n",
      "3    0.111000                         (rolls/buns)\n",
      "4    0.061250                      (bottled water)\n",
      "..        ...                                  ...\n",
      "127  0.006375                 (whole milk, pastry)\n",
      "128  0.005125  (whole milk, fruit/vegetable juice)\n",
      "129  0.014250       (whole milk, other vegetables)\n",
      "130  0.005375            (frankfurter, whole milk)\n",
      "131  0.005375                   (whole milk, pork)\n",
      "\n",
      "[132 rows x 2 columns]\n",
      "44\n",
      "     support                        itemsets\n",
      "0   0.097125                          (soda)\n",
      "1   0.068875                (tropical fruit)\n",
      "2   0.039000                    (newspapers)\n",
      "3   0.111000                    (rolls/buns)\n",
      "4   0.061250                 (bottled water)\n",
      "..       ...                             ...\n",
      "62  0.012750              (whole milk, soda)\n",
      "63  0.014375        (rolls/buns, whole milk)\n",
      "64  0.011250  (rolls/buns, other vegetables)\n",
      "65  0.011500            (whole milk, yogurt)\n",
      "66  0.014250  (whole milk, other vegetables)\n",
      "\n",
      "[67 rows x 2 columns]\n",
      "5\n"
     ]
    }
   ],
   "source": [
    "te = TransactionEncoder()\n",
    "te_ary = te.fit(dataset_without_empty_spaces).transform(dataset_without_empty_spaces)\n",
    "df = pd.DataFrame(te_ary, columns=te.columns_)\n",
    "\n",
    "frequent_itemsets_one = fpgrowth(df, min_support=0.001, use_colnames=True)\n",
    "#frequent_itemsets = apriori(df, min_support=0.01, use_colnames=True)\n",
    "#frequent_itemsets = fpmax(df, min_support=0.01, use_colnames=True)\n",
    "\n",
    "print(frequent_itemsets_one)\n",
    "\n",
    "num_itemsets_one = len(frequent_itemsets_one)\n",
    "rules = association_rules(frequent_itemsets_one, num_itemsets=num_itemsets_one, metric=\"confidence\", min_threshold=0.05)\n",
    "print(rules.shape[0])\n",
    "\n",
    "frequent_itemsets_two = fpgrowth(df, min_support=0.005, use_colnames=True)\n",
    "#frequent_itemsets = apriori(df, min_support=0.01, use_colnames=True)\n",
    "#frequent_itemsets = fpmax(df, min_support=0.01, use_colnames=True)\n",
    "\n",
    "print(frequent_itemsets_two)\n",
    "\n",
    "num_itemsets_two = len(frequent_itemsets_two)\n",
    "rules_two = association_rules(frequent_itemsets_two, num_itemsets=num_itemsets_two, metric=\"confidence\", min_threshold=0.075)\n",
    "print(rules_two.shape[0])\n",
    "\n",
    "frequent_itemsets_three = fpgrowth(df, min_support=0.01, use_colnames=True)\n",
    "#frequent_itemsets = apriori(df, min_support=0.01, use_colnames=True)\n",
    "#frequent_itemsets = fpmax(df, min_support=0.01, use_colnames=True)\n",
    "\n",
    "print(frequent_itemsets_three)\n",
    "\n",
    "num_itemsets_three = len(frequent_itemsets_three)\n",
    "rules_three = association_rules(frequent_itemsets_three, num_itemsets=num_itemsets_three, metric=\"confidence\", min_threshold=0.1)\n",
    "print(rules_three.shape[0])"
   ]
  },
  {
   "cell_type": "code",
   "execution_count": 99,
   "id": "b178b274-feef-4fb0-ae55-1445a5466f32",
   "metadata": {},
   "outputs": [
    {
     "name": "stdout",
     "output_type": "stream",
     "text": [
      "Problem 1, E:\n",
      "Used these websites as resources: \n",
      "https://pandas.pydata.org/docs/reference/api/pandas.DataFrame.from_dict.html\n",
      "https://pandas.pydata.org/docs/reference/api/pandas.MultiIndex.from_tuples.html\n",
      "https://pandas.pydata.org/docs/reference/api/pandas.DataFrame.unstack.html\n",
      "https://seaborn.pydata.org/generated/seaborn.heatmap.html\n"
     ]
    },
    {
     "data": {
      "image/png": "[encoded data removed]",
      "text/plain": [
       "<Figure size 1000x800 with 2 Axes>"
      ]
     },
     "metadata": {},
     "output_type": "display_data"
    }
   ],
   "source": [
    "import seaborn as sns\n",
    "import matplotlib.pyplot as plt\n",
    "\n",
    "print(\"Problem 1, E:\")\n",
    "print(\"Used these websites as resources: \\nhttps://pandas.pydata.org/docs/reference/api/pandas.DataFrame.from_dict.html\")\n",
    "print(\"https://pandas.pydata.org/docs/reference/api/pandas.MultiIndex.from_tuples.html\")\n",
    "print(\"https://pandas.pydata.org/docs/reference/api/pandas.DataFrame.unstack.html\")\n",
    "print(\"https://seaborn.pydata.org/generated/seaborn.heatmap.html\")\n",
    "\n",
    "msvs = [0.001, 0.005, 0.01] \n",
    "mcts = [0.05, 0.075, 0.1]  \n",
    "rule_counts = {}\n",
    "\n",
    "for msv in msvs:\n",
    "    for mct in mcts:\n",
    "        frequent_itemsets = fpgrowth(df, min_support=msv, use_colnames=True)\n",
    "        \n",
    "        num_itemsets = len(frequent_itemsets)\n",
    "        rules = association_rules(frequent_itemsets, num_itemsets=num_itemsets, metric=\"confidence\", min_threshold=mct)\n",
    "\n",
    "        rule_counts[(msv, mct)] = rules.shape[0]\n",
    "\n",
    "rule_counts_data = pd.DataFrame.from_dict(rule_counts, orient='index')\n",
    "rule_counts_data.index = pd.MultiIndex.from_tuples(rule_counts_data.index, names=[\"MSV\", \"MCT\"])\n",
    "\n",
    "rule_counts_unstack = rule_counts_data.unstack(level=0)\n",
    "\n",
    "plt.figure(figsize=(10, 8))\n",
    "sns.heatmap(rule_counts_unstack, annot=True, cmap=\"plasma\", fmt=\"d\")\n",
    "plt.title(\"Association Rules generated by each msv, mct pair\")\n",
    "plt.xlabel(\"msv\")\n",
    "plt.ylabel(\"mct\")\n",
    "plt.show()\n"
   ]
  },
  {
   "cell_type": "code",
   "execution_count": 29,
   "id": "c3da5276-8b6a-4bf4-9bba-5550e4008cec",
   "metadata": {},
   "outputs": [
    {
     "name": "stdout",
     "output_type": "stream",
     "text": [
      "Problem 2:\n",
      "Used these websites as resources:\n",
      "https://www.tensorflow.org/api_docs/python/tf/keras/preprocessing/image/ImageDataGenerator\n",
      "https://www.tensorflow.org/api_docs/python/tf/keras/Model\n",
      "https://keras.io/examples/vision/mnist_convnet/\n",
      "\n",
      "Found 595 images belonging to 4 classes.\n",
      "Found 595 images belonging to 4 classes.\n",
      "\n"
     ]
    },
    {
     "data": {
      "text/html": [
       "<pre style=\"white-space:pre;overflow-x:auto;line-height:normal;font-family:Menlo,'DejaVu Sans Mono',consolas,'Courier New',monospace\"><span style=\"font-weight: bold\">Model: \"sequential_15\"</span>\n",
       "</pre>\n"
      ],
      "text/plain": [
       "\u001b[1mModel: \"sequential_15\"\u001b[0m\n"
      ]
     },
     "metadata": {},
     "output_type": "display_data"
    },
    {
     "data": {
      "text/html": [
       "<pre style=\"white-space:pre;overflow-x:auto;line-height:normal;font-family:Menlo,'DejaVu Sans Mono',consolas,'Courier New',monospace\">┏━━━━━━━━━━━━━━━━━━━━━━━━━━━━━━━━━━━━━━┳━━━━━━━━━━━━━━━━━━━━━━━━━━━━━┳━━━━━━━━━━━━━━━━━┓\n",
       "┃<span style=\"font-weight: bold\"> Layer (type)                         </span>┃<span style=\"font-weight: bold\"> Output Shape                </span>┃<span style=\"font-weight: bold\">         Param # </span>┃\n",
       "┡━━━━━━━━━━━━━━━━━━━━━━━━━━━━━━━━━━━━━━╇━━━━━━━━━━━━━━━━━━━━━━━━━━━━━╇━━━━━━━━━━━━━━━━━┩\n",
       "│ conv2d_30 (<span style=\"color: #0087ff; text-decoration-color: #0087ff\">Conv2D</span>)                   │ (<span style=\"color: #00d7ff; text-decoration-color: #00d7ff\">None</span>, <span style=\"color: #00af00; text-decoration-color: #00af00\">26</span>, <span style=\"color: #00af00; text-decoration-color: #00af00\">26</span>, <span style=\"color: #00af00; text-decoration-color: #00af00\">8</span>)           │             <span style=\"color: #00af00; text-decoration-color: #00af00\">224</span> │\n",
       "├──────────────────────────────────────┼─────────────────────────────┼─────────────────┤\n",
       "│ max_pooling2d_30 (<span style=\"color: #0087ff; text-decoration-color: #0087ff\">MaxPooling2D</span>)      │ (<span style=\"color: #00d7ff; text-decoration-color: #00d7ff\">None</span>, <span style=\"color: #00af00; text-decoration-color: #00af00\">13</span>, <span style=\"color: #00af00; text-decoration-color: #00af00\">13</span>, <span style=\"color: #00af00; text-decoration-color: #00af00\">8</span>)           │               <span style=\"color: #00af00; text-decoration-color: #00af00\">0</span> │\n",
       "├──────────────────────────────────────┼─────────────────────────────┼─────────────────┤\n",
       "│ conv2d_31 (<span style=\"color: #0087ff; text-decoration-color: #0087ff\">Conv2D</span>)                   │ (<span style=\"color: #00d7ff; text-decoration-color: #00d7ff\">None</span>, <span style=\"color: #00af00; text-decoration-color: #00af00\">11</span>, <span style=\"color: #00af00; text-decoration-color: #00af00\">11</span>, <span style=\"color: #00af00; text-decoration-color: #00af00\">4</span>)           │             <span style=\"color: #00af00; text-decoration-color: #00af00\">292</span> │\n",
       "├──────────────────────────────────────┼─────────────────────────────┼─────────────────┤\n",
       "│ max_pooling2d_31 (<span style=\"color: #0087ff; text-decoration-color: #0087ff\">MaxPooling2D</span>)      │ (<span style=\"color: #00d7ff; text-decoration-color: #00d7ff\">None</span>, <span style=\"color: #00af00; text-decoration-color: #00af00\">5</span>, <span style=\"color: #00af00; text-decoration-color: #00af00\">5</span>, <span style=\"color: #00af00; text-decoration-color: #00af00\">4</span>)             │               <span style=\"color: #00af00; text-decoration-color: #00af00\">0</span> │\n",
       "├──────────────────────────────────────┼─────────────────────────────┼─────────────────┤\n",
       "│ flatten_15 (<span style=\"color: #0087ff; text-decoration-color: #0087ff\">Flatten</span>)                 │ (<span style=\"color: #00d7ff; text-decoration-color: #00d7ff\">None</span>, <span style=\"color: #00af00; text-decoration-color: #00af00\">100</span>)                 │               <span style=\"color: #00af00; text-decoration-color: #00af00\">0</span> │\n",
       "├──────────────────────────────────────┼─────────────────────────────┼─────────────────┤\n",
       "│ dense_28 (<span style=\"color: #0087ff; text-decoration-color: #0087ff\">Dense</span>)                     │ (<span style=\"color: #00d7ff; text-decoration-color: #00d7ff\">None</span>, <span style=\"color: #00af00; text-decoration-color: #00af00\">8</span>)                   │             <span style=\"color: #00af00; text-decoration-color: #00af00\">808</span> │\n",
       "├──────────────────────────────────────┼─────────────────────────────┼─────────────────┤\n",
       "│ dense_29 (<span style=\"color: #0087ff; text-decoration-color: #0087ff\">Dense</span>)                     │ (<span style=\"color: #00d7ff; text-decoration-color: #00d7ff\">None</span>, <span style=\"color: #00af00; text-decoration-color: #00af00\">4</span>)                   │              <span style=\"color: #00af00; text-decoration-color: #00af00\">36</span> │\n",
       "└──────────────────────────────────────┴─────────────────────────────┴─────────────────┘\n",
       "</pre>\n"
      ],
      "text/plain": [
       "┏━━━━━━━━━━━━━━━━━━━━━━━━━━━━━━━━━━━━━━┳━━━━━━━━━━━━━━━━━━━━━━━━━━━━━┳━━━━━━━━━━━━━━━━━┓\n",
       "┃\u001b[1m \u001b[0m\u001b[1mLayer (type)                        \u001b[0m\u001b[1m \u001b[0m┃\u001b[1m \u001b[0m\u001b[1mOutput Shape               \u001b[0m\u001b[1m \u001b[0m┃\u001b[1m \u001b[0m\u001b[1m        Param #\u001b[0m\u001b[1m \u001b[0m┃\n",
       "┡━━━━━━━━━━━━━━━━━━━━━━━━━━━━━━━━━━━━━━╇━━━━━━━━━━━━━━━━━━━━━━━━━━━━━╇━━━━━━━━━━━━━━━━━┩\n",
       "│ conv2d_30 (\u001b[38;5;33mConv2D\u001b[0m)                   │ (\u001b[38;5;45mNone\u001b[0m, \u001b[38;5;34m26\u001b[0m, \u001b[38;5;34m26\u001b[0m, \u001b[38;5;34m8\u001b[0m)           │             \u001b[38;5;34m224\u001b[0m │\n",
       "├──────────────────────────────────────┼─────────────────────────────┼─────────────────┤\n",
       "│ max_pooling2d_30 (\u001b[38;5;33mMaxPooling2D\u001b[0m)      │ (\u001b[38;5;45mNone\u001b[0m, \u001b[38;5;34m13\u001b[0m, \u001b[38;5;34m13\u001b[0m, \u001b[38;5;34m8\u001b[0m)           │               \u001b[38;5;34m0\u001b[0m │\n",
       "├──────────────────────────────────────┼─────────────────────────────┼─────────────────┤\n",
       "│ conv2d_31 (\u001b[38;5;33mConv2D\u001b[0m)                   │ (\u001b[38;5;45mNone\u001b[0m, \u001b[38;5;34m11\u001b[0m, \u001b[38;5;34m11\u001b[0m, \u001b[38;5;34m4\u001b[0m)           │             \u001b[38;5;34m292\u001b[0m │\n",
       "├──────────────────────────────────────┼─────────────────────────────┼─────────────────┤\n",
       "│ max_pooling2d_31 (\u001b[38;5;33mMaxPooling2D\u001b[0m)      │ (\u001b[38;5;45mNone\u001b[0m, \u001b[38;5;34m5\u001b[0m, \u001b[38;5;34m5\u001b[0m, \u001b[38;5;34m4\u001b[0m)             │               \u001b[38;5;34m0\u001b[0m │\n",
       "├──────────────────────────────────────┼─────────────────────────────┼─────────────────┤\n",
       "│ flatten_15 (\u001b[38;5;33mFlatten\u001b[0m)                 │ (\u001b[38;5;45mNone\u001b[0m, \u001b[38;5;34m100\u001b[0m)                 │               \u001b[38;5;34m0\u001b[0m │\n",
       "├──────────────────────────────────────┼─────────────────────────────┼─────────────────┤\n",
       "│ dense_28 (\u001b[38;5;33mDense\u001b[0m)                     │ (\u001b[38;5;45mNone\u001b[0m, \u001b[38;5;34m8\u001b[0m)                   │             \u001b[38;5;34m808\u001b[0m │\n",
       "├──────────────────────────────────────┼─────────────────────────────┼─────────────────┤\n",
       "│ dense_29 (\u001b[38;5;33mDense\u001b[0m)                     │ (\u001b[38;5;45mNone\u001b[0m, \u001b[38;5;34m4\u001b[0m)                   │              \u001b[38;5;34m36\u001b[0m │\n",
       "└──────────────────────────────────────┴─────────────────────────────┴─────────────────┘\n"
      ]
     },
     "metadata": {},
     "output_type": "display_data"
    },
    {
     "data": {
      "text/html": [
       "<pre style=\"white-space:pre;overflow-x:auto;line-height:normal;font-family:Menlo,'DejaVu Sans Mono',consolas,'Courier New',monospace\"><span style=\"font-weight: bold\"> Total params: </span><span style=\"color: #00af00; text-decoration-color: #00af00\">1,360</span> (5.31 KB)\n",
       "</pre>\n"
      ],
      "text/plain": [
       "\u001b[1m Total params: \u001b[0m\u001b[38;5;34m1,360\u001b[0m (5.31 KB)\n"
      ]
     },
     "metadata": {},
     "output_type": "display_data"
    },
    {
     "data": {
      "text/html": [
       "<pre style=\"white-space:pre;overflow-x:auto;line-height:normal;font-family:Menlo,'DejaVu Sans Mono',consolas,'Courier New',monospace\"><span style=\"font-weight: bold\"> Trainable params: </span><span style=\"color: #00af00; text-decoration-color: #00af00\">1,360</span> (5.31 KB)\n",
       "</pre>\n"
      ],
      "text/plain": [
       "\u001b[1m Trainable params: \u001b[0m\u001b[38;5;34m1,360\u001b[0m (5.31 KB)\n"
      ]
     },
     "metadata": {},
     "output_type": "display_data"
    },
    {
     "data": {
      "text/html": [
       "<pre style=\"white-space:pre;overflow-x:auto;line-height:normal;font-family:Menlo,'DejaVu Sans Mono',consolas,'Courier New',monospace\"><span style=\"font-weight: bold\"> Non-trainable params: </span><span style=\"color: #00af00; text-decoration-color: #00af00\">0</span> (0.00 B)\n",
       "</pre>\n"
      ],
      "text/plain": [
       "\u001b[1m Non-trainable params: \u001b[0m\u001b[38;5;34m0\u001b[0m (0.00 B)\n"
      ]
     },
     "metadata": {},
     "output_type": "display_data"
    },
    {
     "name": "stdout",
     "output_type": "stream",
     "text": [
      "Epoch 1/20\n",
      "\u001b[1m19/19\u001b[0m \u001b[32m━━━━━━━━━━━━━━━━━━━━\u001b[0m\u001b[37m\u001b[0m \u001b[1m1s\u001b[0m 38ms/step - accuracy: 0.2545 - loss: 1.3911 - val_accuracy: 0.2672 - val_loss: 1.3806\n",
      "Epoch 2/20\n",
      "\u001b[1m19/19\u001b[0m \u001b[32m━━━━━━━━━━━━━━━━━━━━\u001b[0m\u001b[37m\u001b[0m \u001b[1m1s\u001b[0m 30ms/step - accuracy: 0.2429 - loss: 1.3780 - val_accuracy: 0.2790 - val_loss: 1.3638\n",
      "Epoch 3/20\n",
      "\u001b[1m19/19\u001b[0m \u001b[32m━━━━━━━━━━━━━━━━━━━━\u001b[0m\u001b[37m\u001b[0m \u001b[1m1s\u001b[0m 28ms/step - accuracy: 0.3015 - loss: 1.3562 - val_accuracy: 0.3882 - val_loss: 1.3231\n",
      "Epoch 4/20\n",
      "\u001b[1m19/19\u001b[0m \u001b[32m━━━━━━━━━━━━━━━━━━━━\u001b[0m\u001b[37m\u001b[0m \u001b[1m1s\u001b[0m 28ms/step - accuracy: 0.3959 - loss: 1.3156 - val_accuracy: 0.4101 - val_loss: 1.2653\n",
      "Epoch 5/20\n",
      "\u001b[1m19/19\u001b[0m \u001b[32m━━━━━━━━━━━━━━━━━━━━\u001b[0m\u001b[37m\u001b[0m \u001b[1m1s\u001b[0m 28ms/step - accuracy: 0.4437 - loss: 1.2466 - val_accuracy: 0.4437 - val_loss: 1.2107\n",
      "Epoch 6/20\n",
      "\u001b[1m19/19\u001b[0m \u001b[32m━━━━━━━━━━━━━━━━━━━━\u001b[0m\u001b[37m\u001b[0m \u001b[1m1s\u001b[0m 29ms/step - accuracy: 0.4820 - loss: 1.1796 - val_accuracy: 0.4739 - val_loss: 1.1602\n",
      "Epoch 7/20\n",
      "\u001b[1m19/19\u001b[0m \u001b[32m━━━━━━━━━━━━━━━━━━━━\u001b[0m\u001b[37m\u001b[0m \u001b[1m1s\u001b[0m 29ms/step - accuracy: 0.4977 - loss: 1.1465 - val_accuracy: 0.4908 - val_loss: 1.1397\n",
      "Epoch 8/20\n",
      "\u001b[1m19/19\u001b[0m \u001b[32m━━━━━━━━━━━━━━━━━━━━\u001b[0m\u001b[37m\u001b[0m \u001b[1m1s\u001b[0m 32ms/step - accuracy: 0.5056 - loss: 1.1371 - val_accuracy: 0.5143 - val_loss: 1.1369\n",
      "Epoch 9/20\n",
      "\u001b[1m19/19\u001b[0m \u001b[32m━━━━━━━━━━━━━━━━━━━━\u001b[0m\u001b[37m\u001b[0m \u001b[1m1s\u001b[0m 29ms/step - accuracy: 0.5355 - loss: 1.1065 - val_accuracy: 0.5176 - val_loss: 1.1126\n",
      "Epoch 10/20\n",
      "\u001b[1m19/19\u001b[0m \u001b[32m━━━━━━━━━━━━━━━━━━━━\u001b[0m\u001b[37m\u001b[0m \u001b[1m1s\u001b[0m 29ms/step - accuracy: 0.4996 - loss: 1.1516 - val_accuracy: 0.5261 - val_loss: 1.1047\n",
      "Epoch 11/20\n",
      "\u001b[1m19/19\u001b[0m \u001b[32m━━━━━━━━━━━━━━━━━━━━\u001b[0m\u001b[37m\u001b[0m \u001b[1m1s\u001b[0m 27ms/step - accuracy: 0.5091 - loss: 1.1315 - val_accuracy: 0.5479 - val_loss: 1.0981\n",
      "Epoch 12/20\n",
      "\u001b[1m19/19\u001b[0m \u001b[32m━━━━━━━━━━━━━━━━━━━━\u001b[0m\u001b[37m\u001b[0m \u001b[1m1s\u001b[0m 29ms/step - accuracy: 0.5209 - loss: 1.1085 - val_accuracy: 0.5294 - val_loss: 1.1020\n",
      "Epoch 13/20\n",
      "\u001b[1m19/19\u001b[0m \u001b[32m━━━━━━━━━━━━━━━━━━━━\u001b[0m\u001b[37m\u001b[0m \u001b[1m1s\u001b[0m 28ms/step - accuracy: 0.5282 - loss: 1.1086 - val_accuracy: 0.5647 - val_loss: 1.0670\n",
      "Epoch 14/20\n",
      "\u001b[1m19/19\u001b[0m \u001b[32m━━━━━━━━━━━━━━━━━━━━\u001b[0m\u001b[37m\u001b[0m \u001b[1m1s\u001b[0m 30ms/step - accuracy: 0.5748 - loss: 1.0923 - val_accuracy: 0.5647 - val_loss: 1.0539\n",
      "Epoch 15/20\n",
      "\u001b[1m19/19\u001b[0m \u001b[32m━━━━━━━━━━━━━━━━━━━━\u001b[0m\u001b[37m\u001b[0m \u001b[1m1s\u001b[0m 27ms/step - accuracy: 0.5261 - loss: 1.0973 - val_accuracy: 0.5815 - val_loss: 1.0608\n",
      "Epoch 16/20\n",
      "\u001b[1m19/19\u001b[0m \u001b[32m━━━━━━━━━━━━━━━━━━━━\u001b[0m\u001b[37m\u001b[0m \u001b[1m1s\u001b[0m 27ms/step - accuracy: 0.5909 - loss: 1.0157 - val_accuracy: 0.5765 - val_loss: 1.0464\n",
      "Epoch 17/20\n",
      "\u001b[1m19/19\u001b[0m \u001b[32m━━━━━━━━━━━━━━━━━━━━\u001b[0m\u001b[37m\u001b[0m \u001b[1m1s\u001b[0m 28ms/step - accuracy: 0.5879 - loss: 1.0134 - val_accuracy: 0.5630 - val_loss: 1.0406\n",
      "Epoch 18/20\n",
      "\u001b[1m19/19\u001b[0m \u001b[32m━━━━━━━━━━━━━━━━━━━━\u001b[0m\u001b[37m\u001b[0m \u001b[1m1s\u001b[0m 28ms/step - accuracy: 0.5592 - loss: 1.0688 - val_accuracy: 0.5933 - val_loss: 1.0166\n",
      "Epoch 19/20\n",
      "\u001b[1m19/19\u001b[0m \u001b[32m━━━━━━━━━━━━━━━━━━━━\u001b[0m\u001b[37m\u001b[0m \u001b[1m1s\u001b[0m 29ms/step - accuracy: 0.6179 - loss: 1.0066 - val_accuracy: 0.5832 - val_loss: 1.0269\n",
      "Epoch 20/20\n",
      "\u001b[1m19/19\u001b[0m \u001b[32m━━━━━━━━━━━━━━━━━━━━\u001b[0m\u001b[37m\u001b[0m \u001b[1m1s\u001b[0m 27ms/step - accuracy: 0.5671 - loss: 1.0492 - val_accuracy: 0.6034 - val_loss: 1.0012\n",
      "\u001b[1m19/19\u001b[0m \u001b[32m━━━━━━━━━━━━━━━━━━━━\u001b[0m\u001b[37m\u001b[0m \u001b[1m0s\u001b[0m 15ms/step - accuracy: 0.6374 - loss: 0.9897\n",
      "Test Loss:  1.0011680126190186\n",
      "Test Accuracy:  0.6033613681793213\n"
     ]
    }
   ],
   "source": [
    "import numpy as np\n",
    "from tensorflow import keras\n",
    "from keras import layers\n",
    "import tensorflow as tf\n",
    "\n",
    "print(\"Problem 2:\")\n",
    "print(\"Used these websites as resources:\")\n",
    "print(\"https://www.tensorflow.org/api_docs/python/tf/keras/preprocessing/image/ImageDataGenerator\")\n",
    "print(\"https://www.tensorflow.org/api_docs/python/tf/keras/Model\")\n",
    "print(\"https://keras.io/examples/vision/mnist_convnet/\\n\")\n",
    "\n",
    "directory = r'C:\\Users\\colin\\Downloads\\Data Mining 1 - Programming Assignment 1\\Cropped'\n",
    "\n",
    "num_classes = 4 \n",
    "input_shape = (28, 28, 3) \n",
    "\n",
    "train_datagen = ImageDataGenerator(\n",
    "    rescale=1.0 / 255,    \n",
    "    validation_split=0.2,    \n",
    ")\n",
    "\n",
    "train_generator = image_data_generator.flow_from_directory(\n",
    "    directory,\n",
    "    target_size=(28, 28),\n",
    "    color_mode='rgb', \n",
    "    class_mode='categorical', \n",
    "    batch_size=32,\n",
    "    shuffle=True,       \n",
    "    subset=\"training\",  \n",
    ")\n",
    "\n",
    "validation_generator = image_data_generator.flow_from_directory(\n",
    "    directory,\n",
    "    target_size=(28, 28),\n",
    "    color_mode='rgb', \n",
    "    class_mode='categorical', \n",
    "    batch_size=32,\n",
    "    shuffle=True,       \n",
    "    subset=\"training\",  \n",
    ")\n",
    "\n",
    "print(\"\")\n",
    "\n",
    "model = keras.Sequential(\n",
    "    [\n",
    "        keras.Input(shape=input_shape),  # Use the simplified shape\n",
    "        layers.Conv2D(8, kernel_size=(3, 3), activation=\"relu\"),\n",
    "        layers.MaxPooling2D(pool_size=(2, 2)),\n",
    "        layers.Conv2D(4, kernel_size=(3, 3), activation=\"relu\"),\n",
    "        layers.MaxPooling2D(pool_size=(2, 2)),\n",
    "        layers.Flatten(),\n",
    "        layers.Dense(8, activation=\"relu\"),\n",
    "        layers.Dense(4, activation=\"softmax\"),\n",
    "    ]\n",
    ")\n",
    "\n",
    "model.summary()\n",
    "\n",
    "batch_size = 128\n",
    "epochs = 20\n",
    "\n",
    "model.compile(loss=\"categorical_crossentropy\", optimizer=\"adam\", metrics=[\"accuracy\"])\n",
    "\n",
    "history = model.fit(train_generator, batch_size=batch_size, epochs=epochs, validation_data=validation_generator)\n",
    "history\n",
    "\n",
    "score = model.evaluate(validation_generator)\n",
    "print(\"Test Loss: \", score[0])\n",
    "print(\"Test Accuracy: \", score[1])\n"
   ]
  },
  {
   "cell_type": "code",
   "execution_count": 47,
   "id": "c2f2fb0a-5c60-4599-bfdc-8a662f2ff963",
   "metadata": {},
   "outputs": [
    {
     "name": "stdout",
     "output_type": "stream",
     "text": [
      "Problem 2, plotting the learning curves\n",
      "Used this website to recall the history so I could use it to plot the learning curve:\n",
      "https://www.tensorflow.org/api_docs/python/tf/keras/callbacks/History\n",
      "\n"
     ]
    },
    {
     "data": {
      "image/png": "[encoded data removed]",
      "text/plain": [
       "<Figure size 1000x800 with 1 Axes>"
      ]
     },
     "metadata": {},
     "output_type": "display_data"
    }
   ],
   "source": [
    "import matplotlib.pyplot as plt\n",
    "\n",
    "print(\"Problem 2, plotting the learning curves\")\n",
    "print(\"Used this website to recall the history so I could use it to plot the learning curve:\")\n",
    "print(\"https://www.tensorflow.org/api_docs/python/tf/keras/callbacks/History\\n\")\n",
    "\n",
    "plt.figure(figsize=(10, 8))\n",
    "plt.plot(history.history['accuracy'], label='Training Accuracy')\n",
    "plt.plot(history.history['val_accuracy'], label='Validation Accuracy')\n",
    "plt.title('Learning Curves')\n",
    "plt.xlabel('Number of Epochs')\n",
    "plt.ylabel('Training and Validation Accuracy')\n",
    "plt.legend()\n",
    "plt.grid(True)\n",
    "plt.show()"
   ]
  },
  {
   "cell_type": "code",
   "execution_count": 48,
   "id": "4d9a6543-a28b-496e-8fe0-0bff42dc22be",
   "metadata": {},
   "outputs": [
    {
     "name": "stdout",
     "output_type": "stream",
     "text": [
      "My banner ID is 916328544, so the last digit of my banner ID is 4, so I will be doing (b)\n",
      "This section is for 8 filters on 2nd convolution layer\n"
     ]
    },
    {
     "data": {
      "text/html": [
       "<pre style=\"white-space:pre;overflow-x:auto;line-height:normal;font-family:Menlo,'DejaVu Sans Mono',consolas,'Courier New',monospace\"><span style=\"font-weight: bold\">Model: \"sequential_20\"</span>\n",
       "</pre>\n"
      ],
      "text/plain": [
       "\u001b[1mModel: \"sequential_20\"\u001b[0m\n"
      ]
     },
     "metadata": {},
     "output_type": "display_data"
    },
    {
     "data": {
      "text/html": [
       "<pre style=\"white-space:pre;overflow-x:auto;line-height:normal;font-family:Menlo,'DejaVu Sans Mono',consolas,'Courier New',monospace\">┏━━━━━━━━━━━━━━━━━━━━━━━━━━━━━━━━━━━━━━┳━━━━━━━━━━━━━━━━━━━━━━━━━━━━━┳━━━━━━━━━━━━━━━━━┓\n",
       "┃<span style=\"font-weight: bold\"> Layer (type)                         </span>┃<span style=\"font-weight: bold\"> Output Shape                </span>┃<span style=\"font-weight: bold\">         Param # </span>┃\n",
       "┡━━━━━━━━━━━━━━━━━━━━━━━━━━━━━━━━━━━━━━╇━━━━━━━━━━━━━━━━━━━━━━━━━━━━━╇━━━━━━━━━━━━━━━━━┩\n",
       "│ conv2d_40 (<span style=\"color: #0087ff; text-decoration-color: #0087ff\">Conv2D</span>)                   │ (<span style=\"color: #00d7ff; text-decoration-color: #00d7ff\">None</span>, <span style=\"color: #00af00; text-decoration-color: #00af00\">26</span>, <span style=\"color: #00af00; text-decoration-color: #00af00\">26</span>, <span style=\"color: #00af00; text-decoration-color: #00af00\">8</span>)           │             <span style=\"color: #00af00; text-decoration-color: #00af00\">224</span> │\n",
       "├──────────────────────────────────────┼─────────────────────────────┼─────────────────┤\n",
       "│ max_pooling2d_40 (<span style=\"color: #0087ff; text-decoration-color: #0087ff\">MaxPooling2D</span>)      │ (<span style=\"color: #00d7ff; text-decoration-color: #00d7ff\">None</span>, <span style=\"color: #00af00; text-decoration-color: #00af00\">13</span>, <span style=\"color: #00af00; text-decoration-color: #00af00\">13</span>, <span style=\"color: #00af00; text-decoration-color: #00af00\">8</span>)           │               <span style=\"color: #00af00; text-decoration-color: #00af00\">0</span> │\n",
       "├──────────────────────────────────────┼─────────────────────────────┼─────────────────┤\n",
       "│ conv2d_41 (<span style=\"color: #0087ff; text-decoration-color: #0087ff\">Conv2D</span>)                   │ (<span style=\"color: #00d7ff; text-decoration-color: #00d7ff\">None</span>, <span style=\"color: #00af00; text-decoration-color: #00af00\">11</span>, <span style=\"color: #00af00; text-decoration-color: #00af00\">11</span>, <span style=\"color: #00af00; text-decoration-color: #00af00\">8</span>)           │             <span style=\"color: #00af00; text-decoration-color: #00af00\">584</span> │\n",
       "├──────────────────────────────────────┼─────────────────────────────┼─────────────────┤\n",
       "│ max_pooling2d_41 (<span style=\"color: #0087ff; text-decoration-color: #0087ff\">MaxPooling2D</span>)      │ (<span style=\"color: #00d7ff; text-decoration-color: #00d7ff\">None</span>, <span style=\"color: #00af00; text-decoration-color: #00af00\">5</span>, <span style=\"color: #00af00; text-decoration-color: #00af00\">5</span>, <span style=\"color: #00af00; text-decoration-color: #00af00\">8</span>)             │               <span style=\"color: #00af00; text-decoration-color: #00af00\">0</span> │\n",
       "├──────────────────────────────────────┼─────────────────────────────┼─────────────────┤\n",
       "│ flatten_20 (<span style=\"color: #0087ff; text-decoration-color: #0087ff\">Flatten</span>)                 │ (<span style=\"color: #00d7ff; text-decoration-color: #00d7ff\">None</span>, <span style=\"color: #00af00; text-decoration-color: #00af00\">200</span>)                 │               <span style=\"color: #00af00; text-decoration-color: #00af00\">0</span> │\n",
       "├──────────────────────────────────────┼─────────────────────────────┼─────────────────┤\n",
       "│ dense_38 (<span style=\"color: #0087ff; text-decoration-color: #0087ff\">Dense</span>)                     │ (<span style=\"color: #00d7ff; text-decoration-color: #00d7ff\">None</span>, <span style=\"color: #00af00; text-decoration-color: #00af00\">8</span>)                   │           <span style=\"color: #00af00; text-decoration-color: #00af00\">1,608</span> │\n",
       "├──────────────────────────────────────┼─────────────────────────────┼─────────────────┤\n",
       "│ dense_39 (<span style=\"color: #0087ff; text-decoration-color: #0087ff\">Dense</span>)                     │ (<span style=\"color: #00d7ff; text-decoration-color: #00d7ff\">None</span>, <span style=\"color: #00af00; text-decoration-color: #00af00\">4</span>)                   │              <span style=\"color: #00af00; text-decoration-color: #00af00\">36</span> │\n",
       "└──────────────────────────────────────┴─────────────────────────────┴─────────────────┘\n",
       "</pre>\n"
      ],
      "text/plain": [
       "┏━━━━━━━━━━━━━━━━━━━━━━━━━━━━━━━━━━━━━━┳━━━━━━━━━━━━━━━━━━━━━━━━━━━━━┳━━━━━━━━━━━━━━━━━┓\n",
       "┃\u001b[1m \u001b[0m\u001b[1mLayer (type)                        \u001b[0m\u001b[1m \u001b[0m┃\u001b[1m \u001b[0m\u001b[1mOutput Shape               \u001b[0m\u001b[1m \u001b[0m┃\u001b[1m \u001b[0m\u001b[1m        Param #\u001b[0m\u001b[1m \u001b[0m┃\n",
       "┡━━━━━━━━━━━━━━━━━━━━━━━━━━━━━━━━━━━━━━╇━━━━━━━━━━━━━━━━━━━━━━━━━━━━━╇━━━━━━━━━━━━━━━━━┩\n",
       "│ conv2d_40 (\u001b[38;5;33mConv2D\u001b[0m)                   │ (\u001b[38;5;45mNone\u001b[0m, \u001b[38;5;34m26\u001b[0m, \u001b[38;5;34m26\u001b[0m, \u001b[38;5;34m8\u001b[0m)           │             \u001b[38;5;34m224\u001b[0m │\n",
       "├──────────────────────────────────────┼─────────────────────────────┼─────────────────┤\n",
       "│ max_pooling2d_40 (\u001b[38;5;33mMaxPooling2D\u001b[0m)      │ (\u001b[38;5;45mNone\u001b[0m, \u001b[38;5;34m13\u001b[0m, \u001b[38;5;34m13\u001b[0m, \u001b[38;5;34m8\u001b[0m)           │               \u001b[38;5;34m0\u001b[0m │\n",
       "├──────────────────────────────────────┼─────────────────────────────┼─────────────────┤\n",
       "│ conv2d_41 (\u001b[38;5;33mConv2D\u001b[0m)                   │ (\u001b[38;5;45mNone\u001b[0m, \u001b[38;5;34m11\u001b[0m, \u001b[38;5;34m11\u001b[0m, \u001b[38;5;34m8\u001b[0m)           │             \u001b[38;5;34m584\u001b[0m │\n",
       "├──────────────────────────────────────┼─────────────────────────────┼─────────────────┤\n",
       "│ max_pooling2d_41 (\u001b[38;5;33mMaxPooling2D\u001b[0m)      │ (\u001b[38;5;45mNone\u001b[0m, \u001b[38;5;34m5\u001b[0m, \u001b[38;5;34m5\u001b[0m, \u001b[38;5;34m8\u001b[0m)             │               \u001b[38;5;34m0\u001b[0m │\n",
       "├──────────────────────────────────────┼─────────────────────────────┼─────────────────┤\n",
       "│ flatten_20 (\u001b[38;5;33mFlatten\u001b[0m)                 │ (\u001b[38;5;45mNone\u001b[0m, \u001b[38;5;34m200\u001b[0m)                 │               \u001b[38;5;34m0\u001b[0m │\n",
       "├──────────────────────────────────────┼─────────────────────────────┼─────────────────┤\n",
       "│ dense_38 (\u001b[38;5;33mDense\u001b[0m)                     │ (\u001b[38;5;45mNone\u001b[0m, \u001b[38;5;34m8\u001b[0m)                   │           \u001b[38;5;34m1,608\u001b[0m │\n",
       "├──────────────────────────────────────┼─────────────────────────────┼─────────────────┤\n",
       "│ dense_39 (\u001b[38;5;33mDense\u001b[0m)                     │ (\u001b[38;5;45mNone\u001b[0m, \u001b[38;5;34m4\u001b[0m)                   │              \u001b[38;5;34m36\u001b[0m │\n",
       "└──────────────────────────────────────┴─────────────────────────────┴─────────────────┘\n"
      ]
     },
     "metadata": {},
     "output_type": "display_data"
    },
    {
     "data": {
      "text/html": [
       "<pre style=\"white-space:pre;overflow-x:auto;line-height:normal;font-family:Menlo,'DejaVu Sans Mono',consolas,'Courier New',monospace\"><span style=\"font-weight: bold\"> Total params: </span><span style=\"color: #00af00; text-decoration-color: #00af00\">2,452</span> (9.58 KB)\n",
       "</pre>\n"
      ],
      "text/plain": [
       "\u001b[1m Total params: \u001b[0m\u001b[38;5;34m2,452\u001b[0m (9.58 KB)\n"
      ]
     },
     "metadata": {},
     "output_type": "display_data"
    },
    {
     "data": {
      "text/html": [
       "<pre style=\"white-space:pre;overflow-x:auto;line-height:normal;font-family:Menlo,'DejaVu Sans Mono',consolas,'Courier New',monospace\"><span style=\"font-weight: bold\"> Trainable params: </span><span style=\"color: #00af00; text-decoration-color: #00af00\">2,452</span> (9.58 KB)\n",
       "</pre>\n"
      ],
      "text/plain": [
       "\u001b[1m Trainable params: \u001b[0m\u001b[38;5;34m2,452\u001b[0m (9.58 KB)\n"
      ]
     },
     "metadata": {},
     "output_type": "display_data"
    },
    {
     "data": {
      "text/html": [
       "<pre style=\"white-space:pre;overflow-x:auto;line-height:normal;font-family:Menlo,'DejaVu Sans Mono',consolas,'Courier New',monospace\"><span style=\"font-weight: bold\"> Non-trainable params: </span><span style=\"color: #00af00; text-decoration-color: #00af00\">0</span> (0.00 B)\n",
       "</pre>\n"
      ],
      "text/plain": [
       "\u001b[1m Non-trainable params: \u001b[0m\u001b[38;5;34m0\u001b[0m (0.00 B)\n"
      ]
     },
     "metadata": {},
     "output_type": "display_data"
    },
    {
     "name": "stdout",
     "output_type": "stream",
     "text": [
      "Epoch 1/20\n",
      "\u001b[1m19/19\u001b[0m \u001b[32m━━━━━━━━━━━━━━━━━━━━\u001b[0m\u001b[37m\u001b[0m \u001b[1m2s\u001b[0m 42ms/step - accuracy: 0.2834 - loss: 1.3838 - val_accuracy: 0.3008 - val_loss: 1.3710\n",
      "Epoch 2/20\n",
      "\u001b[1m19/19\u001b[0m \u001b[32m━━━━━━━━━━━━━━━━━━━━\u001b[0m\u001b[37m\u001b[0m \u001b[1m1s\u001b[0m 30ms/step - accuracy: 0.2941 - loss: 1.3679 - val_accuracy: 0.3193 - val_loss: 1.3536\n",
      "Epoch 3/20\n",
      "\u001b[1m19/19\u001b[0m \u001b[32m━━━━━━━━━━━━━━━━━━━━\u001b[0m\u001b[37m\u001b[0m \u001b[1m1s\u001b[0m 28ms/step - accuracy: 0.3644 - loss: 1.3487 - val_accuracy: 0.3782 - val_loss: 1.3262\n",
      "Epoch 4/20\n",
      "\u001b[1m19/19\u001b[0m \u001b[32m━━━━━━━━━━━━━━━━━━━━\u001b[0m\u001b[37m\u001b[0m \u001b[1m1s\u001b[0m 33ms/step - accuracy: 0.3774 - loss: 1.3258 - val_accuracy: 0.3361 - val_loss: 1.3063\n",
      "Epoch 5/20\n",
      "\u001b[1m19/19\u001b[0m \u001b[32m━━━━━━━━━━━━━━━━━━━━\u001b[0m\u001b[37m\u001b[0m \u001b[1m1s\u001b[0m 33ms/step - accuracy: 0.3919 - loss: 1.3019 - val_accuracy: 0.4672 - val_loss: 1.2589\n",
      "Epoch 6/20\n",
      "\u001b[1m19/19\u001b[0m \u001b[32m━━━━━━━━━━━━━━━━━━━━\u001b[0m\u001b[37m\u001b[0m \u001b[1m1s\u001b[0m 29ms/step - accuracy: 0.5123 - loss: 1.2609 - val_accuracy: 0.5462 - val_loss: 1.2269\n",
      "Epoch 7/20\n",
      "\u001b[1m19/19\u001b[0m \u001b[32m━━━━━━━━━━━━━━━━━━━━\u001b[0m\u001b[37m\u001b[0m \u001b[1m1s\u001b[0m 33ms/step - accuracy: 0.5505 - loss: 1.2099 - val_accuracy: 0.5782 - val_loss: 1.1841\n",
      "Epoch 8/20\n",
      "\u001b[1m19/19\u001b[0m \u001b[32m━━━━━━━━━━━━━━━━━━━━\u001b[0m\u001b[37m\u001b[0m \u001b[1m1s\u001b[0m 33ms/step - accuracy: 0.5446 - loss: 1.1892 - val_accuracy: 0.5815 - val_loss: 1.1278\n",
      "Epoch 9/20\n",
      "\u001b[1m19/19\u001b[0m \u001b[32m━━━━━━━━━━━━━━━━━━━━\u001b[0m\u001b[37m\u001b[0m \u001b[1m1s\u001b[0m 30ms/step - accuracy: 0.5713 - loss: 1.1440 - val_accuracy: 0.5412 - val_loss: 1.0908\n",
      "Epoch 10/20\n",
      "\u001b[1m19/19\u001b[0m \u001b[32m━━━━━━━━━━━━━━━━━━━━\u001b[0m\u001b[37m\u001b[0m \u001b[1m1s\u001b[0m 31ms/step - accuracy: 0.5382 - loss: 1.1224 - val_accuracy: 0.5815 - val_loss: 1.0765\n",
      "Epoch 11/20\n",
      "\u001b[1m19/19\u001b[0m \u001b[32m━━━━━━━━━━━━━━━━━━━━\u001b[0m\u001b[37m\u001b[0m \u001b[1m1s\u001b[0m 32ms/step - accuracy: 0.5591 - loss: 1.0854 - val_accuracy: 0.5731 - val_loss: 1.0527\n",
      "Epoch 12/20\n",
      "\u001b[1m19/19\u001b[0m \u001b[32m━━━━━━━━━━━━━━━━━━━━\u001b[0m\u001b[37m\u001b[0m \u001b[1m1s\u001b[0m 35ms/step - accuracy: 0.5982 - loss: 1.0492 - val_accuracy: 0.6202 - val_loss: 1.0181\n",
      "Epoch 13/20\n",
      "\u001b[1m19/19\u001b[0m \u001b[32m━━━━━━━━━━━━━━━━━━━━\u001b[0m\u001b[37m\u001b[0m \u001b[1m1s\u001b[0m 32ms/step - accuracy: 0.5766 - loss: 1.0345 - val_accuracy: 0.6017 - val_loss: 1.0117\n",
      "Epoch 14/20\n",
      "\u001b[1m19/19\u001b[0m \u001b[32m━━━━━━━━━━━━━━━━━━━━\u001b[0m\u001b[37m\u001b[0m \u001b[1m1s\u001b[0m 31ms/step - accuracy: 0.6002 - loss: 1.0362 - val_accuracy: 0.6017 - val_loss: 0.9916\n",
      "Epoch 15/20\n",
      "\u001b[1m19/19\u001b[0m \u001b[32m━━━━━━━━━━━━━━━━━━━━\u001b[0m\u001b[37m\u001b[0m \u001b[1m1s\u001b[0m 34ms/step - accuracy: 0.5967 - loss: 1.0269 - val_accuracy: 0.6319 - val_loss: 0.9865\n",
      "Epoch 16/20\n",
      "\u001b[1m19/19\u001b[0m \u001b[32m━━━━━━━━━━━━━━━━━━━━\u001b[0m\u001b[37m\u001b[0m \u001b[1m1s\u001b[0m 33ms/step - accuracy: 0.5853 - loss: 1.0332 - val_accuracy: 0.6000 - val_loss: 0.9781\n",
      "Epoch 17/20\n",
      "\u001b[1m19/19\u001b[0m \u001b[32m━━━━━━━━━━━━━━━━━━━━\u001b[0m\u001b[37m\u001b[0m \u001b[1m1s\u001b[0m 30ms/step - accuracy: 0.6002 - loss: 0.9929 - val_accuracy: 0.6403 - val_loss: 0.9479\n",
      "Epoch 18/20\n",
      "\u001b[1m19/19\u001b[0m \u001b[32m━━━━━━━━━━━━━━━━━━━━\u001b[0m\u001b[37m\u001b[0m \u001b[1m1s\u001b[0m 30ms/step - accuracy: 0.6340 - loss: 0.9426 - val_accuracy: 0.6101 - val_loss: 0.9563\n",
      "Epoch 19/20\n",
      "\u001b[1m19/19\u001b[0m \u001b[32m━━━━━━━━━━━━━━━━━━━━\u001b[0m\u001b[37m\u001b[0m \u001b[1m1s\u001b[0m 33ms/step - accuracy: 0.5965 - loss: 0.9674 - val_accuracy: 0.6639 - val_loss: 0.9335\n",
      "Epoch 20/20\n",
      "\u001b[1m19/19\u001b[0m \u001b[32m━━━━━━━━━━━━━━━━━━━━\u001b[0m\u001b[37m\u001b[0m \u001b[1m1s\u001b[0m 37ms/step - accuracy: 0.6199 - loss: 0.9663 - val_accuracy: 0.6336 - val_loss: 0.9450\n",
      "\u001b[1m19/19\u001b[0m \u001b[32m━━━━━━━━━━━━━━━━━━━━\u001b[0m\u001b[37m\u001b[0m \u001b[1m0s\u001b[0m 14ms/step - accuracy: 0.6193 - loss: 0.9502\n",
      "Test Loss:  0.944968044757843\n",
      "Test Accuracy:  0.6336134672164917\n"
     ]
    },
    {
     "data": {
      "image/png": "[encoded data removed]",
      "text/plain": [
       "<Figure size 1000x800 with 1 Axes>"
      ]
     },
     "metadata": {},
     "output_type": "display_data"
    }
   ],
   "source": [
    "print(\"My banner ID is 916328544, so the last digit of my banner ID is 4, so I will be doing (b)\")\n",
    "print(\"This section is for 8 filters on 2nd convolution layer\")\n",
    "\n",
    "model_two = keras.Sequential(\n",
    "    [\n",
    "        keras.Input(shape=input_shape),  # Use the simplified shape\n",
    "        layers.Conv2D(8, kernel_size=(3, 3), activation=\"relu\"),\n",
    "        layers.MaxPooling2D(pool_size=(2, 2)),\n",
    "        layers.Conv2D(8, kernel_size=(3, 3), activation=\"relu\"),\n",
    "        layers.MaxPooling2D(pool_size=(2, 2)),\n",
    "        layers.Flatten(),\n",
    "        layers.Dense(8, activation=\"relu\"),\n",
    "        layers.Dense(4, activation=\"softmax\"),\n",
    "    ]\n",
    ")\n",
    "\n",
    "model_two.summary()\n",
    "\n",
    "batch_size = 128\n",
    "epochs = 20\n",
    "\n",
    "model_two.compile(loss=\"categorical_crossentropy\", optimizer=\"adam\", metrics=[\"accuracy\"])\n",
    "\n",
    "history_two = model_two.fit(train_generator, batch_size=batch_size, epochs=epochs, validation_data=validation_generator)\n",
    "history_two\n",
    "\n",
    "score = model_two.evaluate(validation_generator)\n",
    "print(\"Test Loss: \", score[0])\n",
    "print(\"Test Accuracy: \", score[1])\n",
    "\n",
    "plt.figure(figsize=(10, 8))\n",
    "plt.plot(history_two.history['accuracy'], label='Training Accuracy')\n",
    "plt.plot(history_two.history['val_accuracy'], label='Validation Accuracy')\n",
    "plt.title('Learning Curves')\n",
    "plt.xlabel('Number of Epochs')\n",
    "plt.ylabel('Training and Validation Accuracy')\n",
    "plt.legend()\n",
    "plt.grid(True)\n",
    "plt.show()"
   ]
  },
  {
   "cell_type": "code",
   "execution_count": 41,
   "id": "8952f8cf-4299-4717-9681-d354ba656559",
   "metadata": {},
   "outputs": [
    {
     "name": "stdout",
     "output_type": "stream",
     "text": [
      "This section is for 16 filters on 2nd convolution layer\n"
     ]
    },
    {
     "data": {
      "text/html": [
       "<pre style=\"white-space:pre;overflow-x:auto;line-height:normal;font-family:Menlo,'DejaVu Sans Mono',consolas,'Courier New',monospace\"><span style=\"font-weight: bold\">Model: \"sequential_19\"</span>\n",
       "</pre>\n"
      ],
      "text/plain": [
       "\u001b[1mModel: \"sequential_19\"\u001b[0m\n"
      ]
     },
     "metadata": {},
     "output_type": "display_data"
    },
    {
     "data": {
      "text/html": [
       "<pre style=\"white-space:pre;overflow-x:auto;line-height:normal;font-family:Menlo,'DejaVu Sans Mono',consolas,'Courier New',monospace\">┏━━━━━━━━━━━━━━━━━━━━━━━━━━━━━━━━━━━━━━┳━━━━━━━━━━━━━━━━━━━━━━━━━━━━━┳━━━━━━━━━━━━━━━━━┓\n",
       "┃<span style=\"font-weight: bold\"> Layer (type)                         </span>┃<span style=\"font-weight: bold\"> Output Shape                </span>┃<span style=\"font-weight: bold\">         Param # </span>┃\n",
       "┡━━━━━━━━━━━━━━━━━━━━━━━━━━━━━━━━━━━━━━╇━━━━━━━━━━━━━━━━━━━━━━━━━━━━━╇━━━━━━━━━━━━━━━━━┩\n",
       "│ conv2d_38 (<span style=\"color: #0087ff; text-decoration-color: #0087ff\">Conv2D</span>)                   │ (<span style=\"color: #00d7ff; text-decoration-color: #00d7ff\">None</span>, <span style=\"color: #00af00; text-decoration-color: #00af00\">26</span>, <span style=\"color: #00af00; text-decoration-color: #00af00\">26</span>, <span style=\"color: #00af00; text-decoration-color: #00af00\">8</span>)           │             <span style=\"color: #00af00; text-decoration-color: #00af00\">224</span> │\n",
       "├──────────────────────────────────────┼─────────────────────────────┼─────────────────┤\n",
       "│ max_pooling2d_38 (<span style=\"color: #0087ff; text-decoration-color: #0087ff\">MaxPooling2D</span>)      │ (<span style=\"color: #00d7ff; text-decoration-color: #00d7ff\">None</span>, <span style=\"color: #00af00; text-decoration-color: #00af00\">13</span>, <span style=\"color: #00af00; text-decoration-color: #00af00\">13</span>, <span style=\"color: #00af00; text-decoration-color: #00af00\">8</span>)           │               <span style=\"color: #00af00; text-decoration-color: #00af00\">0</span> │\n",
       "├──────────────────────────────────────┼─────────────────────────────┼─────────────────┤\n",
       "│ conv2d_39 (<span style=\"color: #0087ff; text-decoration-color: #0087ff\">Conv2D</span>)                   │ (<span style=\"color: #00d7ff; text-decoration-color: #00d7ff\">None</span>, <span style=\"color: #00af00; text-decoration-color: #00af00\">11</span>, <span style=\"color: #00af00; text-decoration-color: #00af00\">11</span>, <span style=\"color: #00af00; text-decoration-color: #00af00\">16</span>)          │           <span style=\"color: #00af00; text-decoration-color: #00af00\">1,168</span> │\n",
       "├──────────────────────────────────────┼─────────────────────────────┼─────────────────┤\n",
       "│ max_pooling2d_39 (<span style=\"color: #0087ff; text-decoration-color: #0087ff\">MaxPooling2D</span>)      │ (<span style=\"color: #00d7ff; text-decoration-color: #00d7ff\">None</span>, <span style=\"color: #00af00; text-decoration-color: #00af00\">5</span>, <span style=\"color: #00af00; text-decoration-color: #00af00\">5</span>, <span style=\"color: #00af00; text-decoration-color: #00af00\">16</span>)            │               <span style=\"color: #00af00; text-decoration-color: #00af00\">0</span> │\n",
       "├──────────────────────────────────────┼─────────────────────────────┼─────────────────┤\n",
       "│ flatten_19 (<span style=\"color: #0087ff; text-decoration-color: #0087ff\">Flatten</span>)                 │ (<span style=\"color: #00d7ff; text-decoration-color: #00d7ff\">None</span>, <span style=\"color: #00af00; text-decoration-color: #00af00\">400</span>)                 │               <span style=\"color: #00af00; text-decoration-color: #00af00\">0</span> │\n",
       "├──────────────────────────────────────┼─────────────────────────────┼─────────────────┤\n",
       "│ dense_36 (<span style=\"color: #0087ff; text-decoration-color: #0087ff\">Dense</span>)                     │ (<span style=\"color: #00d7ff; text-decoration-color: #00d7ff\">None</span>, <span style=\"color: #00af00; text-decoration-color: #00af00\">8</span>)                   │           <span style=\"color: #00af00; text-decoration-color: #00af00\">3,208</span> │\n",
       "├──────────────────────────────────────┼─────────────────────────────┼─────────────────┤\n",
       "│ dense_37 (<span style=\"color: #0087ff; text-decoration-color: #0087ff\">Dense</span>)                     │ (<span style=\"color: #00d7ff; text-decoration-color: #00d7ff\">None</span>, <span style=\"color: #00af00; text-decoration-color: #00af00\">4</span>)                   │              <span style=\"color: #00af00; text-decoration-color: #00af00\">36</span> │\n",
       "└──────────────────────────────────────┴─────────────────────────────┴─────────────────┘\n",
       "</pre>\n"
      ],
      "text/plain": [
       "┏━━━━━━━━━━━━━━━━━━━━━━━━━━━━━━━━━━━━━━┳━━━━━━━━━━━━━━━━━━━━━━━━━━━━━┳━━━━━━━━━━━━━━━━━┓\n",
       "┃\u001b[1m \u001b[0m\u001b[1mLayer (type)                        \u001b[0m\u001b[1m \u001b[0m┃\u001b[1m \u001b[0m\u001b[1mOutput Shape               \u001b[0m\u001b[1m \u001b[0m┃\u001b[1m \u001b[0m\u001b[1m        Param #\u001b[0m\u001b[1m \u001b[0m┃\n",
       "┡━━━━━━━━━━━━━━━━━━━━━━━━━━━━━━━━━━━━━━╇━━━━━━━━━━━━━━━━━━━━━━━━━━━━━╇━━━━━━━━━━━━━━━━━┩\n",
       "│ conv2d_38 (\u001b[38;5;33mConv2D\u001b[0m)                   │ (\u001b[38;5;45mNone\u001b[0m, \u001b[38;5;34m26\u001b[0m, \u001b[38;5;34m26\u001b[0m, \u001b[38;5;34m8\u001b[0m)           │             \u001b[38;5;34m224\u001b[0m │\n",
       "├──────────────────────────────────────┼─────────────────────────────┼─────────────────┤\n",
       "│ max_pooling2d_38 (\u001b[38;5;33mMaxPooling2D\u001b[0m)      │ (\u001b[38;5;45mNone\u001b[0m, \u001b[38;5;34m13\u001b[0m, \u001b[38;5;34m13\u001b[0m, \u001b[38;5;34m8\u001b[0m)           │               \u001b[38;5;34m0\u001b[0m │\n",
       "├──────────────────────────────────────┼─────────────────────────────┼─────────────────┤\n",
       "│ conv2d_39 (\u001b[38;5;33mConv2D\u001b[0m)                   │ (\u001b[38;5;45mNone\u001b[0m, \u001b[38;5;34m11\u001b[0m, \u001b[38;5;34m11\u001b[0m, \u001b[38;5;34m16\u001b[0m)          │           \u001b[38;5;34m1,168\u001b[0m │\n",
       "├──────────────────────────────────────┼─────────────────────────────┼─────────────────┤\n",
       "│ max_pooling2d_39 (\u001b[38;5;33mMaxPooling2D\u001b[0m)      │ (\u001b[38;5;45mNone\u001b[0m, \u001b[38;5;34m5\u001b[0m, \u001b[38;5;34m5\u001b[0m, \u001b[38;5;34m16\u001b[0m)            │               \u001b[38;5;34m0\u001b[0m │\n",
       "├──────────────────────────────────────┼─────────────────────────────┼─────────────────┤\n",
       "│ flatten_19 (\u001b[38;5;33mFlatten\u001b[0m)                 │ (\u001b[38;5;45mNone\u001b[0m, \u001b[38;5;34m400\u001b[0m)                 │               \u001b[38;5;34m0\u001b[0m │\n",
       "├──────────────────────────────────────┼─────────────────────────────┼─────────────────┤\n",
       "│ dense_36 (\u001b[38;5;33mDense\u001b[0m)                     │ (\u001b[38;5;45mNone\u001b[0m, \u001b[38;5;34m8\u001b[0m)                   │           \u001b[38;5;34m3,208\u001b[0m │\n",
       "├──────────────────────────────────────┼─────────────────────────────┼─────────────────┤\n",
       "│ dense_37 (\u001b[38;5;33mDense\u001b[0m)                     │ (\u001b[38;5;45mNone\u001b[0m, \u001b[38;5;34m4\u001b[0m)                   │              \u001b[38;5;34m36\u001b[0m │\n",
       "└──────────────────────────────────────┴─────────────────────────────┴─────────────────┘\n"
      ]
     },
     "metadata": {},
     "output_type": "display_data"
    },
    {
     "data": {
      "text/html": [
       "<pre style=\"white-space:pre;overflow-x:auto;line-height:normal;font-family:Menlo,'DejaVu Sans Mono',consolas,'Courier New',monospace\"><span style=\"font-weight: bold\"> Total params: </span><span style=\"color: #00af00; text-decoration-color: #00af00\">4,636</span> (18.11 KB)\n",
       "</pre>\n"
      ],
      "text/plain": [
       "\u001b[1m Total params: \u001b[0m\u001b[38;5;34m4,636\u001b[0m (18.11 KB)\n"
      ]
     },
     "metadata": {},
     "output_type": "display_data"
    },
    {
     "data": {
      "text/html": [
       "<pre style=\"white-space:pre;overflow-x:auto;line-height:normal;font-family:Menlo,'DejaVu Sans Mono',consolas,'Courier New',monospace\"><span style=\"font-weight: bold\"> Trainable params: </span><span style=\"color: #00af00; text-decoration-color: #00af00\">4,636</span> (18.11 KB)\n",
       "</pre>\n"
      ],
      "text/plain": [
       "\u001b[1m Trainable params: \u001b[0m\u001b[38;5;34m4,636\u001b[0m (18.11 KB)\n"
      ]
     },
     "metadata": {},
     "output_type": "display_data"
    },
    {
     "data": {
      "text/html": [
       "<pre style=\"white-space:pre;overflow-x:auto;line-height:normal;font-family:Menlo,'DejaVu Sans Mono',consolas,'Courier New',monospace\"><span style=\"font-weight: bold\"> Non-trainable params: </span><span style=\"color: #00af00; text-decoration-color: #00af00\">0</span> (0.00 B)\n",
       "</pre>\n"
      ],
      "text/plain": [
       "\u001b[1m Non-trainable params: \u001b[0m\u001b[38;5;34m0\u001b[0m (0.00 B)\n"
      ]
     },
     "metadata": {},
     "output_type": "display_data"
    },
    {
     "name": "stdout",
     "output_type": "stream",
     "text": [
      "Epoch 1/20\n",
      "\u001b[1m19/19\u001b[0m \u001b[32m━━━━━━━━━━━━━━━━━━━━\u001b[0m\u001b[37m\u001b[0m \u001b[1m2s\u001b[0m 42ms/step - accuracy: 0.2389 - loss: 1.3918 - val_accuracy: 0.2706 - val_loss: 1.3783\n",
      "Epoch 2/20\n",
      "\u001b[1m19/19\u001b[0m \u001b[32m━━━━━━━━━━━━━━━━━━━━\u001b[0m\u001b[37m\u001b[0m \u001b[1m1s\u001b[0m 31ms/step - accuracy: 0.2544 - loss: 1.3773 - val_accuracy: 0.2739 - val_loss: 1.3710\n",
      "Epoch 3/20\n",
      "\u001b[1m19/19\u001b[0m \u001b[32m━━━━━━━━━━━━━━━━━━━━\u001b[0m\u001b[37m\u001b[0m \u001b[1m1s\u001b[0m 31ms/step - accuracy: 0.2959 - loss: 1.3713 - val_accuracy: 0.3361 - val_loss: 1.3515\n",
      "Epoch 4/20\n",
      "\u001b[1m19/19\u001b[0m \u001b[32m━━━━━━━━━━━━━━━━━━━━\u001b[0m\u001b[37m\u001b[0m \u001b[1m1s\u001b[0m 31ms/step - accuracy: 0.3000 - loss: 1.3448 - val_accuracy: 0.3176 - val_loss: 1.3086\n",
      "Epoch 5/20\n",
      "\u001b[1m19/19\u001b[0m \u001b[32m━━━━━━━━━━━━━━━━━━━━\u001b[0m\u001b[37m\u001b[0m \u001b[1m1s\u001b[0m 33ms/step - accuracy: 0.3429 - loss: 1.2956 - val_accuracy: 0.4017 - val_loss: 1.2500\n",
      "Epoch 6/20\n",
      "\u001b[1m19/19\u001b[0m \u001b[32m━━━━━━━━━━━━━━━━━━━━\u001b[0m\u001b[37m\u001b[0m \u001b[1m1s\u001b[0m 31ms/step - accuracy: 0.4182 - loss: 1.2427 - val_accuracy: 0.5630 - val_loss: 1.1942\n",
      "Epoch 7/20\n",
      "\u001b[1m19/19\u001b[0m \u001b[32m━━━━━━━━━━━━━━━━━━━━\u001b[0m\u001b[37m\u001b[0m \u001b[1m1s\u001b[0m 31ms/step - accuracy: 0.5177 - loss: 1.1984 - val_accuracy: 0.5244 - val_loss: 1.1520\n",
      "Epoch 8/20\n",
      "\u001b[1m19/19\u001b[0m \u001b[32m━━━━━━━━━━━━━━━━━━━━\u001b[0m\u001b[37m\u001b[0m \u001b[1m1s\u001b[0m 34ms/step - accuracy: 0.5102 - loss: 1.1583 - val_accuracy: 0.5647 - val_loss: 1.0839\n",
      "Epoch 9/20\n",
      "\u001b[1m19/19\u001b[0m \u001b[32m━━━━━━━━━━━━━━━━━━━━\u001b[0m\u001b[37m\u001b[0m \u001b[1m1s\u001b[0m 32ms/step - accuracy: 0.5640 - loss: 1.0689 - val_accuracy: 0.5529 - val_loss: 1.0603\n",
      "Epoch 10/20\n",
      "\u001b[1m19/19\u001b[0m \u001b[32m━━━━━━━━━━━━━━━━━━━━\u001b[0m\u001b[37m\u001b[0m \u001b[1m1s\u001b[0m 31ms/step - accuracy: 0.5387 - loss: 1.0907 - val_accuracy: 0.6101 - val_loss: 0.9869\n",
      "Epoch 11/20\n",
      "\u001b[1m19/19\u001b[0m \u001b[32m━━━━━━━━━━━━━━━━━━━━\u001b[0m\u001b[37m\u001b[0m \u001b[1m1s\u001b[0m 27ms/step - accuracy: 0.6385 - loss: 0.9630 - val_accuracy: 0.6235 - val_loss: 0.9668\n",
      "Epoch 12/20\n",
      "\u001b[1m19/19\u001b[0m \u001b[32m━━━━━━━━━━━━━━━━━━━━\u001b[0m\u001b[37m\u001b[0m \u001b[1m1s\u001b[0m 31ms/step - accuracy: 0.6197 - loss: 0.9441 - val_accuracy: 0.6134 - val_loss: 0.9843\n",
      "Epoch 13/20\n",
      "\u001b[1m19/19\u001b[0m \u001b[32m━━━━━━━━━━━━━━━━━━━━\u001b[0m\u001b[37m\u001b[0m \u001b[1m1s\u001b[0m 30ms/step - accuracy: 0.6099 - loss: 0.9319 - val_accuracy: 0.6538 - val_loss: 0.9213\n",
      "Epoch 14/20\n",
      "\u001b[1m19/19\u001b[0m \u001b[32m━━━━━━━━━━━━━━━━━━━━\u001b[0m\u001b[37m\u001b[0m \u001b[1m1s\u001b[0m 31ms/step - accuracy: 0.6286 - loss: 0.9781 - val_accuracy: 0.6672 - val_loss: 0.9062\n",
      "Epoch 15/20\n",
      "\u001b[1m19/19\u001b[0m \u001b[32m━━━━━━━━━━━━━━━━━━━━\u001b[0m\u001b[37m\u001b[0m \u001b[1m1s\u001b[0m 31ms/step - accuracy: 0.6342 - loss: 0.9460 - val_accuracy: 0.6672 - val_loss: 0.8954\n",
      "Epoch 16/20\n",
      "\u001b[1m19/19\u001b[0m \u001b[32m━━━━━━━━━━━━━━━━━━━━\u001b[0m\u001b[37m\u001b[0m \u001b[1m1s\u001b[0m 31ms/step - accuracy: 0.6243 - loss: 0.9585 - val_accuracy: 0.6672 - val_loss: 0.8989\n",
      "Epoch 17/20\n",
      "\u001b[1m19/19\u001b[0m \u001b[32m━━━━━━━━━━━━━━━━━━━━\u001b[0m\u001b[37m\u001b[0m \u001b[1m1s\u001b[0m 31ms/step - accuracy: 0.6500 - loss: 0.9179 - val_accuracy: 0.6874 - val_loss: 0.8583\n",
      "Epoch 18/20\n",
      "\u001b[1m19/19\u001b[0m \u001b[32m━━━━━━━━━━━━━━━━━━━━\u001b[0m\u001b[37m\u001b[0m \u001b[1m1s\u001b[0m 29ms/step - accuracy: 0.6436 - loss: 0.8987 - val_accuracy: 0.6622 - val_loss: 0.8789\n",
      "Epoch 19/20\n",
      "\u001b[1m19/19\u001b[0m \u001b[32m━━━━━━━━━━━━━━━━━━━━\u001b[0m\u001b[37m\u001b[0m \u001b[1m1s\u001b[0m 31ms/step - accuracy: 0.6541 - loss: 0.8942 - val_accuracy: 0.6454 - val_loss: 0.8759\n",
      "Epoch 20/20\n",
      "\u001b[1m19/19\u001b[0m \u001b[32m━━━━━━━━━━━━━━━━━━━━\u001b[0m\u001b[37m\u001b[0m \u001b[1m1s\u001b[0m 31ms/step - accuracy: 0.6841 - loss: 0.8524 - val_accuracy: 0.6403 - val_loss: 0.8851\n",
      "\u001b[1m19/19\u001b[0m \u001b[32m━━━━━━━━━━━━━━━━━━━━\u001b[0m\u001b[37m\u001b[0m \u001b[1m0s\u001b[0m 15ms/step - accuracy: 0.6349 - loss: 0.8644\n",
      "Test Loss:  0.8850995302200317\n",
      "Test Accuracy:  0.6403361558914185\n"
     ]
    },
    {
     "data": {
      "image/png": "[encoded data removed]",
      "text/plain": [
       "<Figure size 1000x800 with 1 Axes>"
      ]
     },
     "metadata": {},
     "output_type": "display_data"
    }
   ],
   "source": [
    "print(\"This section is for 16 filters on 2nd convolution layer\")\n",
    "\n",
    "model_three = keras.Sequential(\n",
    "    [\n",
    "        keras.Input(shape=input_shape),  # Use the simplified shape\n",
    "        layers.Conv2D(8, kernel_size=(3, 3), activation=\"relu\"),\n",
    "        layers.MaxPooling2D(pool_size=(2, 2)),\n",
    "        layers.Conv2D(16, kernel_size=(3, 3), activation=\"relu\"),\n",
    "        layers.MaxPooling2D(pool_size=(2, 2)),\n",
    "        layers.Flatten(),\n",
    "        layers.Dense(8, activation=\"relu\"),\n",
    "        layers.Dense(4, activation=\"softmax\"),\n",
    "    ]\n",
    ")\n",
    "\n",
    "model_three.summary()\n",
    "\n",
    "batch_size = 128\n",
    "epochs = 20\n",
    "\n",
    "model_three.compile(loss=\"categorical_crossentropy\", optimizer=\"adam\", metrics=[\"accuracy\"])\n",
    "\n",
    "history_three = model_three.fit(train_generator, batch_size=batch_size, epochs=epochs, validation_data=validation_generator)\n",
    "history_three\n",
    "\n",
    "score = model_three.evaluate(validation_generator)\n",
    "print(\"Test Loss: \", score[0])\n",
    "print(\"Test Accuracy: \", score[1])\n",
    "\n",
    "plt.figure(figsize=(10, 8))\n",
    "plt.plot(history_three.history['accuracy'], label='Training Accuracy')\n",
    "plt.plot(history_three.history['val_accuracy'], label='Validation Accuracy')\n",
    "plt.title('Learning Curves')\n",
    "plt.xlabel('Number of Epochs')\n",
    "plt.ylabel('Training and Validation Accuracy')\n",
    "plt.legend()\n",
    "plt.grid(True)\n",
    "plt.show()"
   ]
  },
  {
   "cell_type": "code",
   "execution_count": 49,
   "id": "2bdda94c-24c0-4620-b9b3-8575a967db7c",
   "metadata": {},
   "outputs": [
    {
     "name": "stdout",
     "output_type": "stream",
     "text": [
      "Observing the performance of the original model compared to the other two models with the different filter sizes, I can say that\n",
      "the 2nd convolution layer with 16 filters on average performed the best, as it had an average accuracy of 64%, compared to 60% and 63% from the other two models.\n",
      "\n",
      "This can make one believe that increasing the number of filters will increase our average performance of our model. The 16 filter model also had the highest peak accuracy.\n",
      "Thus, the 2nd convolution layer using 16 filters performed better than the original model and the model with 8 filters.\n",
      "\n",
      "I will say that I believe the models that were made are just right as both training and validation accuracies stick close enough togegther and the accuracies go up as more epochs are finished, thus showing us that it is actually training and learning\n"
     ]
    }
   ],
   "source": [
    "print(\"Observing the performance of the original model compared to the other two models with the different filter sizes, I can say that\")\n",
    "print(\"the 2nd convolution layer with 16 filters on average performed the best, as it had an average accuracy of 64%, compared to 60% and 63% from the other two models.\\n\")\n",
    "print(\"This can make one believe that increasing the number of filters will increase our average performance of our model. The 16 filter model also had the highest peak accuracy.\")\n",
    "print(\"Thus, the 2nd convolution layer using 16 filters performed better than the original model and the model with 8 filters.\\n\")\n",
    "print(\"I will say that I believe the models that were made are just right as both training and validation accuracies stick close enough togegther and the accuracies go up as more epochs are finished, thus showing us that it is actually training and learning\")"
   ]
  },
  {
   "cell_type": "code",
   "execution_count": 2,
   "id": "640b7a65-b348-48e3-a63c-0bf7b0d6063c",
   "metadata": {},
   "outputs": [
    {
     "name": "stdout",
     "output_type": "stream",
     "text": [
      "Problem 3:\n",
      "Mainly just followed the tutorial from the website linked:\n",
      "https://github.com/NielsRogge/Transformers-Tutorials/blob/master/BERT/Fine_tuning_BERT_(and_friends)_for_multi_label_text_classification.ipynb\n",
      "{'ID': '2017-En-10973', 'Tweet': \"So I'm not being shady but one of Jongdae's ex rumoured girlfriends is going on WGM I'm not saying I'm over joyed but I'm over joyed #bitter\", 'anger': False, 'anticipation': False, 'disgust': False, 'fear': False, 'joy': True, 'love': False, 'optimism': False, 'pessimism': False, 'sadness': False, 'surprise': False, 'trust': False}\n"
     ]
    },
    {
     "data": {
      "text/plain": [
       "['anger',\n",
       " 'anticipation',\n",
       " 'disgust',\n",
       " 'fear',\n",
       " 'joy',\n",
       " 'love',\n",
       " 'optimism',\n",
       " 'pessimism',\n",
       " 'sadness',\n",
       " 'surprise',\n",
       " 'trust']"
      ]
     },
     "execution_count": 2,
     "metadata": {},
     "output_type": "execute_result"
    }
   ],
   "source": [
    "import json\n",
    "from datasets import Dataset, DatasetDict\n",
    "\n",
    "print(\"Problem 3:\")\n",
    "print(\"Mainly just followed the tutorial from the website linked:\")\n",
    "print(\"https://github.com/NielsRogge/Transformers-Tutorials/blob/master/BERT/Fine_tuning_BERT_(and_friends)_for_multi_label_text_classification.ipynb\")\n",
    "\n",
    "json_path_training = r'C:\\Users\\colin\\Downloads\\Data Mining 1 - Programming Assignment 1\\train.json'\n",
    "json_path_test = r'C:\\Users\\colin\\Downloads\\Data Mining 1 - Programming Assignment 1\\test.json'\n",
    "json_path_validation = r'C:\\Users\\colin\\Downloads\\Data Mining 1 - Programming Assignment 1\\validation.json'\n",
    "\n",
    "def get_tweets(file_path):\n",
    "    with open(file_path, 'r', encoding='utf-8') as f:\n",
    "        return [json.loads(line) for line in f]\n",
    "\n",
    "train_data = get_tweets(json_path_training)\n",
    "test_data = get_tweets(json_path_test)\n",
    "validation_data = get_tweets(json_path_validation)\n",
    "\n",
    "dataset = DatasetDict({\n",
    "    'train': Dataset.from_list(train_data),\n",
    "    'test': Dataset.from_list(test_data),\n",
    "    'validation': Dataset.from_list(validation_data)\n",
    "})\n",
    "\n",
    "example = dataset['train'][0]\n",
    "print(example) \n",
    "\n",
    "labels = [label for label in dataset['train'].features.keys() if label not in ['ID', 'Tweet']]\n",
    "id2label = {idx:label for idx, label in enumerate(labels)}\n",
    "label2id = {label:idx for idx, label in enumerate(labels)}\n",
    "labels\n",
    "#id2label\n",
    "#label2id"
   ]
  },
  {
   "cell_type": "code",
   "execution_count": 3,
   "id": "de78057e-2966-4bb5-9f43-78c5f00840a2",
   "metadata": {},
   "outputs": [
    {
     "name": "stderr",
     "output_type": "stream",
     "text": [
      "C:\\Users\\colin\\AppData\\Local\\Programs\\Python\\Python312\\Lib\\site-packages\\transformers\\tokenization_utils_base.py:1617: FutureWarning: `clean_up_tokenization_spaces` was not set. It will be set to `True` by default. This behavior will be deprecated in transformers v4.45, and will be then set to `False` by default. For more details check this issue: https://github.com/huggingface/transformers/issues/31884\n",
      "  warnings.warn(\n"
     ]
    }
   ],
   "source": [
    "from transformers import AutoTokenizer\n",
    "import numpy as np\n",
    "\n",
    "tokenizer = AutoTokenizer.from_pretrained(\"bert-base-uncased\")\n",
    "\n",
    "def preprocess_data(examples):\n",
    "  # take a batch of texts\n",
    "  text = examples[\"Tweet\"]\n",
    "  # encode them\n",
    "  encoding = tokenizer(text, padding=\"max_length\", truncation=True, max_length=128)\n",
    "  # add labels\n",
    "  labels_batch = {k: examples[k] for k in examples.keys() if k in labels}\n",
    "  # create numpy array of shape (batch_size, num_labels)\n",
    "  labels_matrix = np.zeros((len(text), len(labels)))\n",
    "  # fill numpy array\n",
    "  for idx, label in enumerate(labels):\n",
    "    labels_matrix[:, idx] = labels_batch[label]\n",
    "\n",
    "  encoding[\"labels\"] = labels_matrix.tolist()\n",
    "  \n",
    "  return encoding"
   ]
  },
  {
   "cell_type": "code",
   "execution_count": 4,
   "id": "c825bf7c-1c4c-4095-9da7-03f43a0013ca",
   "metadata": {},
   "outputs": [
    {
     "data": {
      "application/vnd.jupyter.widget-view+json": {
       "model_id": "d60ef816b775407fa8045b55dfd75f06",
       "version_major": 2,
       "version_minor": 0
      },
      "text/plain": [
       "Map:   0%|          | 0/3000 [00:00<?, ? examples/s]"
      ]
     },
     "metadata": {},
     "output_type": "display_data"
    },
    {
     "data": {
      "application/vnd.jupyter.widget-view+json": {
       "model_id": "040816ba6348402e99b8669ec520a55f",
       "version_major": 2,
       "version_minor": 0
      },
      "text/plain": [
       "Map:   0%|          | 0/1500 [00:00<?, ? examples/s]"
      ]
     },
     "metadata": {},
     "output_type": "display_data"
    },
    {
     "data": {
      "application/vnd.jupyter.widget-view+json": {
       "model_id": "d0e212ff2ded40b39cec8f21c98612e2",
       "version_major": 2,
       "version_minor": 0
      },
      "text/plain": [
       "Map:   0%|          | 0/400 [00:00<?, ? examples/s]"
      ]
     },
     "metadata": {},
     "output_type": "display_data"
    }
   ],
   "source": [
    "encoded_dataset = dataset.map(preprocess_data, batched=True, remove_columns=dataset['train'].column_names)"
   ]
  },
  {
   "cell_type": "code",
   "execution_count": 5,
   "id": "aae4f33f-e488-40da-828c-d0bc5aa44043",
   "metadata": {},
   "outputs": [
    {
     "name": "stdout",
     "output_type": "stream",
     "text": [
      "dict_keys(['input_ids', 'token_type_ids', 'attention_mask', 'labels'])\n"
     ]
    }
   ],
   "source": [
    "example = encoded_dataset['train'][0]\n",
    "print(example.keys())"
   ]
  },
  {
   "cell_type": "code",
   "execution_count": 6,
   "id": "dc488e71-bbc1-4e9d-93a8-d2c0b2deaf90",
   "metadata": {},
   "outputs": [
    {
     "data": {
      "text/plain": [
       "[0.0, 0.0, 0.0, 0.0, 1.0, 0.0, 0.0, 0.0, 0.0, 0.0, 0.0]"
      ]
     },
     "execution_count": 6,
     "metadata": {},
     "output_type": "execute_result"
    }
   ],
   "source": [
    "example['labels']"
   ]
  },
  {
   "cell_type": "code",
   "execution_count": 7,
   "id": "5346f0f2-f044-4055-a480-f041488c82fb",
   "metadata": {},
   "outputs": [
    {
     "data": {
      "text/plain": [
       "['joy']"
      ]
     },
     "execution_count": 7,
     "metadata": {},
     "output_type": "execute_result"
    }
   ],
   "source": [
    "[id2label[idx] for idx, label in enumerate(example['labels']) if label == 1.0]"
   ]
  },
  {
   "cell_type": "code",
   "execution_count": 8,
   "id": "a368090e-d37f-4815-a7ae-f503ab28913f",
   "metadata": {},
   "outputs": [],
   "source": [
    "encoded_dataset.set_format(\"torch\")"
   ]
  },
  {
   "cell_type": "code",
   "execution_count": 9,
   "id": "8831b6bf-14ef-4369-8a53-84d2bca0091d",
   "metadata": {},
   "outputs": [
    {
     "name": "stderr",
     "output_type": "stream",
     "text": [
      "Some weights of BertForSequenceClassification were not initialized from the model checkpoint at bert-base-uncased and are newly initialized: ['classifier.bias', 'classifier.weight']\n",
      "You should probably TRAIN this model on a down-stream task to be able to use it for predictions and inference.\n"
     ]
    }
   ],
   "source": [
    "from transformers import AutoModelForSequenceClassification\n",
    "\n",
    "model = AutoModelForSequenceClassification.from_pretrained(\"bert-base-uncased\", \n",
    "                                                           problem_type=\"multi_label_classification\", \n",
    "                                                           num_labels=len(labels),\n",
    "                                                           id2label=id2label,\n",
    "                                                           label2id=label2id)"
   ]
  },
  {
   "cell_type": "code",
   "execution_count": 4,
   "id": "63c791fd-5aec-48e1-9f53-b1a073e1d2c1",
   "metadata": {},
   "outputs": [],
   "source": [
    "batch_size = 8\n",
    "metric_name = \"f1\""
   ]
  },
  {
   "cell_type": "code",
   "execution_count": 5,
   "id": "c19ade2e-b40f-47a8-b6d9-711e398bdbc9",
   "metadata": {},
   "outputs": [
    {
     "name": "stderr",
     "output_type": "stream",
     "text": [
      "C:\\Users\\colin\\AppData\\Local\\Programs\\Python\\Python312\\Lib\\site-packages\\transformers\\training_args.py:1545: FutureWarning: `evaluation_strategy` is deprecated and will be removed in version 4.46 of 🤗 Transformers. Use `eval_strategy` instead\n",
      "  warnings.warn(\n"
     ]
    }
   ],
   "source": [
    "from transformers import TrainingArguments, Trainer\n",
    "\n",
    "args = TrainingArguments(\n",
    "    f\"bert-finetuned-sem_eval-english\",\n",
    "    evaluation_strategy = \"epoch\",\n",
    "    save_strategy = \"epoch\",\n",
    "    learning_rate=2e-5,\n",
    "    per_device_train_batch_size=batch_size,\n",
    "    per_device_eval_batch_size=batch_size,\n",
    "    num_train_epochs=5,\n",
    "    weight_decay=0.01,\n",
    "    load_best_model_at_end=True,\n",
    "    metric_for_best_model=metric_name,\n",
    "    #push_to_hub=True,\n",
    ")"
   ]
  },
  {
   "cell_type": "code",
   "execution_count": 6,
   "id": "b956ae13-05ba-4a7f-85ee-ee38ba1160df",
   "metadata": {},
   "outputs": [],
   "source": [
    "from sklearn.metrics import f1_score, roc_auc_score, accuracy_score\n",
    "from transformers import EvalPrediction\n",
    "import torch\n",
    "    \n",
    "# source: https://jesusleal.io/2021/04/21/Longformer-multilabel-classification/\n",
    "def multi_label_metrics(predictions, labels, threshold=0.5):\n",
    "    # first, apply sigmoid on predictions which are of shape (batch_size, num_labels)\n",
    "    sigmoid = torch.nn.Sigmoid()\n",
    "    probs = sigmoid(torch.Tensor(predictions))\n",
    "    # next, use threshold to turn them into integer predictions\n",
    "    y_pred = np.zeros(probs.shape)\n",
    "    y_pred[np.where(probs >= threshold)] = 1\n",
    "    # finally, compute metrics\n",
    "    y_true = labels\n",
    "    f1_micro_average = f1_score(y_true=y_true, y_pred=y_pred, average='micro')\n",
    "    roc_auc = roc_auc_score(y_true, y_pred, average = 'micro')\n",
    "    accuracy = accuracy_score(y_true, y_pred)\n",
    "    # return as dictionary\n",
    "    metrics = {'f1': f1_micro_average,\n",
    "               'roc_auc': roc_auc,\n",
    "               'accuracy': accuracy}\n",
    "    return metrics\n",
    "\n",
    "def compute_metrics(p: EvalPrediction):\n",
    "    preds = p.predictions[0] if isinstance(p.predictions, \n",
    "            tuple) else p.predictions\n",
    "    result = multi_label_metrics(\n",
    "        predictions=preds, \n",
    "        labels=p.label_ids)\n",
    "    return result"
   ]
  },
  {
   "cell_type": "code",
   "execution_count": 13,
   "id": "dcf0c8b4-5f46-4fd7-bc03-98249d552b9a",
   "metadata": {},
   "outputs": [
    {
     "data": {
      "text/plain": [
       "'torch.FloatTensor'"
      ]
     },
     "execution_count": 13,
     "metadata": {},
     "output_type": "execute_result"
    }
   ],
   "source": [
    "encoded_dataset['train'][0]['labels'].type()"
   ]
  },
  {
   "cell_type": "code",
   "execution_count": 14,
   "id": "b621c295-b727-4b2f-a446-fe507eb651f3",
   "metadata": {},
   "outputs": [
    {
     "data": {
      "text/plain": [
       "tensor([  101,  2061,  1045,  1005,  1049,  2025,  2108, 22824,  2021,  2028,\n",
       "         1997, 18528,  6858,  1005,  1055,  4654, 19379, 16777, 27408,  2003,\n",
       "         2183,  2006,  1059, 21693,  1045,  1005,  1049,  2025,  3038,  1045,\n",
       "         1005,  1049,  2058,  6569,  2098,  2021,  1045,  1005,  1049,  2058,\n",
       "         6569,  2098,  1001,  8618,   102,     0,     0,     0,     0,     0,\n",
       "            0,     0,     0,     0,     0,     0,     0,     0,     0,     0,\n",
       "            0,     0,     0,     0,     0,     0,     0,     0,     0,     0,\n",
       "            0,     0,     0,     0,     0,     0,     0,     0,     0,     0,\n",
       "            0,     0,     0,     0,     0,     0,     0,     0,     0,     0,\n",
       "            0,     0,     0,     0,     0,     0,     0,     0,     0,     0,\n",
       "            0,     0,     0,     0,     0,     0,     0,     0,     0,     0,\n",
       "            0,     0,     0,     0,     0,     0,     0,     0,     0,     0,\n",
       "            0,     0,     0,     0,     0,     0,     0,     0])"
      ]
     },
     "execution_count": 14,
     "metadata": {},
     "output_type": "execute_result"
    }
   ],
   "source": [
    "encoded_dataset['train']['input_ids'][0]"
   ]
  },
  {
   "cell_type": "code",
   "execution_count": 15,
   "id": "3e3e83a0-03c7-4992-99c1-e8c71d833a8c",
   "metadata": {},
   "outputs": [
    {
     "name": "stderr",
     "output_type": "stream",
     "text": [
      "We strongly recommend passing in an `attention_mask` since your input_ids may be padded. See https://huggingface.co/docs/transformers/troubleshooting#incorrect-output-when-padding-tokens-arent-masked.\n"
     ]
    },
    {
     "data": {
      "text/plain": [
       "SequenceClassifierOutput(loss=tensor(0.7561, grad_fn=<BinaryCrossEntropyWithLogitsBackward0>), logits=tensor([[-0.0821, -0.0349, -0.4089,  0.5261, -0.5390, -0.3086, -0.1222,  0.5098,\n",
       "          0.1762,  0.4065, -0.1455]], grad_fn=<AddmmBackward0>), hidden_states=None, attentions=None)"
      ]
     },
     "execution_count": 15,
     "metadata": {},
     "output_type": "execute_result"
    }
   ],
   "source": [
    "#forward pass\n",
    "outputs = model(input_ids=encoded_dataset['train']['input_ids'][0].unsqueeze(0), labels=encoded_dataset['train'][0]['labels'].unsqueeze(0))\n",
    "outputs"
   ]
  },
  {
   "cell_type": "code",
   "execution_count": 16,
   "id": "b260bf5c-7587-43b1-9422-6a53ee581ade",
   "metadata": {},
   "outputs": [],
   "source": [
    "trainer = Trainer(\n",
    "    model,\n",
    "    args,\n",
    "    train_dataset=encoded_dataset[\"train\"],\n",
    "    eval_dataset=encoded_dataset[\"validation\"],\n",
    "    tokenizer=tokenizer,\n",
    "    compute_metrics=compute_metrics\n",
    ")"
   ]
  },
  {
   "cell_type": "code",
   "execution_count": 17,
   "id": "1d5241e6-1bda-4b04-85e6-26d70969f631",
   "metadata": {},
   "outputs": [
    {
     "data": {
      "text/html": [
       "\n",
       "    <div>\n",
       "      \n",
       "      <progress value='1875' max='1875' style='width:300px; height:20px; vertical-align: middle;'></progress>\n",
       "      [1875/1875 2:05:55, Epoch 5/5]\n",
       "    </div>\n",
       "    <table border=\"1\" class=\"dataframe\">\n",
       "  <thead>\n",
       " <tr style=\"text-align: left;\">\n",
       "      <th>Epoch</th>\n",
       "      <th>Training Loss</th>\n",
       "      <th>Validation Loss</th>\n",
       "      <th>F1</th>\n",
       "      <th>Roc Auc</th>\n",
       "      <th>Accuracy</th>\n",
       "    </tr>\n",
       "  </thead>\n",
       "  <tbody>\n",
       "    <tr>\n",
       "      <td>1</td>\n",
       "      <td>No log</td>\n",
       "      <td>0.351310</td>\n",
       "      <td>0.618696</td>\n",
       "      <td>0.735007</td>\n",
       "      <td>0.217500</td>\n",
       "    </tr>\n",
       "    <tr>\n",
       "      <td>2</td>\n",
       "      <td>0.400100</td>\n",
       "      <td>0.325114</td>\n",
       "      <td>0.658318</td>\n",
       "      <td>0.759562</td>\n",
       "      <td>0.255000</td>\n",
       "    </tr>\n",
       "    <tr>\n",
       "      <td>3</td>\n",
       "      <td>0.287500</td>\n",
       "      <td>0.318982</td>\n",
       "      <td>0.682899</td>\n",
       "      <td>0.779858</td>\n",
       "      <td>0.262500</td>\n",
       "    </tr>\n",
       "    <tr>\n",
       "      <td>4</td>\n",
       "      <td>0.242400</td>\n",
       "      <td>0.322219</td>\n",
       "      <td>0.685682</td>\n",
       "      <td>0.783172</td>\n",
       "      <td>0.260000</td>\n",
       "    </tr>\n",
       "    <tr>\n",
       "      <td>5</td>\n",
       "      <td>0.242400</td>\n",
       "      <td>0.322509</td>\n",
       "      <td>0.686734</td>\n",
       "      <td>0.784254</td>\n",
       "      <td>0.267500</td>\n",
       "    </tr>\n",
       "  </tbody>\n",
       "</table><p>"
      ],
      "text/plain": [
       "<IPython.core.display.HTML object>"
      ]
     },
     "metadata": {},
     "output_type": "display_data"
    },
    {
     "data": {
      "text/plain": [
       "TrainOutput(global_step=1875, training_loss=0.29095354817708335, metrics={'train_runtime': 7559.8036, 'train_samples_per_second': 1.984, 'train_steps_per_second': 0.248, 'total_flos': 986746187520000.0, 'train_loss': 0.29095354817708335, 'epoch': 5.0})"
      ]
     },
     "execution_count": 17,
     "metadata": {},
     "output_type": "execute_result"
    }
   ],
   "source": [
    "trainer.train()"
   ]
  },
  {
   "cell_type": "code",
   "execution_count": 19,
   "id": "436efc6d-47a2-49f3-a82f-a203d81c6a42",
   "metadata": {},
   "outputs": [
    {
     "data": {
      "text/html": [
       "\n",
       "    <div>\n",
       "      \n",
       "      <progress value='50' max='50' style='width:300px; height:20px; vertical-align: middle;'></progress>\n",
       "      [50/50 00:30]\n",
       "    </div>\n",
       "    "
      ],
      "text/plain": [
       "<IPython.core.display.HTML object>"
      ]
     },
     "metadata": {},
     "output_type": "display_data"
    },
    {
     "data": {
      "text/plain": [
       "{'eval_loss': 0.32250916957855225,\n",
       " 'eval_f1': 0.6867335562987736,\n",
       " 'eval_roc_auc': 0.7842537172435182,\n",
       " 'eval_accuracy': 0.2675,\n",
       " 'eval_runtime': 30.854,\n",
       " 'eval_samples_per_second': 12.964,\n",
       " 'eval_steps_per_second': 1.621,\n",
       " 'epoch': 5.0}"
      ]
     },
     "execution_count": 19,
     "metadata": {},
     "output_type": "execute_result"
    }
   ],
   "source": [
    "trainer.evaluate()"
   ]
  },
  {
   "cell_type": "code",
   "execution_count": 20,
   "id": "efdc2cb1-d6d4-408b-80a4-b01f4dd95a5c",
   "metadata": {},
   "outputs": [
    {
     "data": {
      "image/png": "[encoded data removed]",
      "text/plain": [
       "<Figure size 1000x800 with 1 Axes>"
      ]
     },
     "metadata": {},
     "output_type": "display_data"
    }
   ],
   "source": [
    "import matplotlib.pyplot as plt\n",
    "\n",
    "history = trainer.state.log_history\n",
    "\n",
    "training_loss = []\n",
    "validation_loss = []\n",
    "epoch_training = []\n",
    "epoch_validation = []\n",
    "\n",
    "for log in history:\n",
    "    #print(log)\n",
    "    if \"loss\" in log: \n",
    "        #print(log[\"loss\"])\n",
    "        epoch_training.append(log[\"epoch\"])\n",
    "        training_loss.append(log[\"loss\"])\n",
    "    if \"eval_loss\" in log: \n",
    "        #print(log[eval_loss])\n",
    "        epoch_validation.append(log[\"epoch\"])\n",
    "        validation_loss.append(log[\"eval_loss\"])\n",
    "\n",
    "plt.figure(figsize=(10, 8))\n",
    "plt.plot(epoch_training, training_loss, label=\"Training Loss\")\n",
    "plt.plot(epoch_validation, validation_loss, label=\"Validation Loss\")\n",
    "plt.xlabel(\"Number of Epochs\")\n",
    "plt.ylabel(\"Losses\")\n",
    "plt.title(\"Learning Curves\")\n",
    "plt.grid(True)\n",
    "plt.legend()\n",
    "plt.show()"
   ]
  },
  {
   "cell_type": "code",
   "execution_count": 24,
   "id": "c8cd9698-5182-4703-b4a6-5d70a39c36ae",
   "metadata": {},
   "outputs": [
    {
     "name": "stdout",
     "output_type": "stream",
     "text": [
      "The test accuracy for the approach 'all labels must match' is: 0.267500\n"
     ]
    }
   ],
   "source": [
    "print(\"The test accuracy for the approach 'all labels must match' is: 0.267500\")"
   ]
  },
  {
   "cell_type": "code",
   "execution_count": 44,
   "id": "68863da5-ac42-40a6-b8c9-2d4bdea3864b",
   "metadata": {},
   "outputs": [
    {
     "name": "stdout",
     "output_type": "stream",
     "text": [
      "Now modifying the accuracy so that the prediciton is correct as long as one label matches\n"
     ]
    }
   ],
   "source": [
    "print(\"Now modifying the accuracy so that the prediciton is correct as long as one label matches\")"
   ]
  },
  {
   "cell_type": "code",
   "execution_count": 7,
   "id": "a002fe21-2585-4acd-8ca1-259dee8c3619",
   "metadata": {},
   "outputs": [],
   "source": [
    "args = TrainingArguments(\n",
    "    f\"bert-finetuned-sem_eval-english\",\n",
    "    evaluation_strategy=\"epoch\",\n",
    "    save_strategy=\"epoch\",\n",
    "    learning_rate=2e-5,\n",
    "    per_device_train_batch_size=batch_size,\n",
    "    per_device_eval_batch_size=batch_size,\n",
    "    num_train_epochs=5,\n",
    "    weight_decay=0.01,\n",
    "    load_best_model_at_end=True,\n",
    "    metric_for_best_model=\"eval_one_label_accuracy\",\n",
    "    # push_to_hub=True,\n",
    ")"
   ]
  },
  {
   "cell_type": "code",
   "execution_count": 41,
   "id": "ad69dd28-9f28-41f4-a3b4-efb2c7997520",
   "metadata": {},
   "outputs": [
    {
     "name": "stdout",
     "output_type": "stream",
     "text": [
      "Now modifying the accuracy so that the prediciton is correct as long as one label matches\n"
     ]
    }
   ],
   "source": [
    "def multi_label_metrics(predictions, labels, threshold=0.5):\n",
    "    # Apply sigmoid to predictions\n",
    "    sigmoid = torch.nn.Sigmoid()\n",
    "    probs = sigmoid(torch.Tensor(predictions))\n",
    "    # Turn probabilities into binary predictions using the threshold\n",
    "    y_pred = np.zeros(probs.shape)\n",
    "    y_pred[np.where(probs >= threshold)] = 1\n",
    "    # Compute metrics\n",
    "    y_true = labels\n",
    "    f1_micro_average = f1_score(y_true=y_true, y_pred=y_pred, average='micro')\n",
    "    roc_auc = roc_auc_score(y_true, y_pred, average='micro')\n",
    "    one_correct_label = np.logical_and(y_pred, y_true).any(axis=1) \n",
    "    one_label_accuracy = one_correct_label.mean() \n",
    "    # Return as dictionary\n",
    "    metrics = {\n",
    "        'f1': f1_micro_average,\n",
    "        'roc_auc': roc_auc,\n",
    "        'one_label_accuracy': one_label_accuracy\n",
    "    }\n",
    "    return metrics\n",
    "\n",
    "def compute_metrics(p: EvalPrediction):\n",
    "    preds = p.predictions[0] if isinstance(p.predictions, \n",
    "            tuple) else p.predictions\n",
    "    result = multi_label_metrics(\n",
    "        predictions=preds, \n",
    "        labels=p.label_ids)\n",
    "    return result"
   ]
  },
  {
   "cell_type": "code",
   "execution_count": 42,
   "id": "a1599cb9-7203-4399-bbbe-73f8d834cd36",
   "metadata": {},
   "outputs": [],
   "source": [
    "trainer = Trainer(\n",
    "    model,\n",
    "    args,\n",
    "    train_dataset=encoded_dataset[\"train\"],\n",
    "    eval_dataset=encoded_dataset[\"validation\"],\n",
    "    tokenizer=tokenizer,\n",
    "    compute_metrics=compute_metrics\n",
    ")"
   ]
  },
  {
   "cell_type": "code",
   "execution_count": 43,
   "id": "d064e5c9-11f2-49e1-bee6-063efd4ed904",
   "metadata": {},
   "outputs": [
    {
     "data": {
      "text/html": [
       "\n",
       "    <div>\n",
       "      \n",
       "      <progress value='1875' max='1875' style='width:300px; height:20px; vertical-align: middle;'></progress>\n",
       "      [1875/1875 1:54:35, Epoch 5/5]\n",
       "    </div>\n",
       "    <table border=\"1\" class=\"dataframe\">\n",
       "  <thead>\n",
       " <tr style=\"text-align: left;\">\n",
       "      <th>Epoch</th>\n",
       "      <th>Training Loss</th>\n",
       "      <th>Validation Loss</th>\n",
       "      <th>F1</th>\n",
       "      <th>Roc Auc</th>\n",
       "      <th>One Label Accuracy</th>\n",
       "    </tr>\n",
       "  </thead>\n",
       "  <tbody>\n",
       "    <tr>\n",
       "      <td>1</td>\n",
       "      <td>No log</td>\n",
       "      <td>0.377682</td>\n",
       "      <td>0.685031</td>\n",
       "      <td>0.793317</td>\n",
       "      <td>0.852500</td>\n",
       "    </tr>\n",
       "    <tr>\n",
       "      <td>2</td>\n",
       "      <td>0.134300</td>\n",
       "      <td>0.362367</td>\n",
       "      <td>0.677909</td>\n",
       "      <td>0.777954</td>\n",
       "      <td>0.855000</td>\n",
       "    </tr>\n",
       "    <tr>\n",
       "      <td>3</td>\n",
       "      <td>0.131900</td>\n",
       "      <td>0.370299</td>\n",
       "      <td>0.687738</td>\n",
       "      <td>0.788052</td>\n",
       "      <td>0.865000</td>\n",
       "    </tr>\n",
       "    <tr>\n",
       "      <td>4</td>\n",
       "      <td>0.102500</td>\n",
       "      <td>0.375685</td>\n",
       "      <td>0.683836</td>\n",
       "      <td>0.784942</td>\n",
       "      <td>0.860000</td>\n",
       "    </tr>\n",
       "    <tr>\n",
       "      <td>5</td>\n",
       "      <td>0.102500</td>\n",
       "      <td>0.380145</td>\n",
       "      <td>0.682314</td>\n",
       "      <td>0.784570</td>\n",
       "      <td>0.857500</td>\n",
       "    </tr>\n",
       "  </tbody>\n",
       "</table><p>"
      ],
      "text/plain": [
       "<IPython.core.display.HTML object>"
      ]
     },
     "metadata": {},
     "output_type": "display_data"
    },
    {
     "data": {
      "text/plain": [
       "TrainOutput(global_step=1875, training_loss=0.11559182739257813, metrics={'train_runtime': 6878.6379, 'train_samples_per_second': 2.181, 'train_steps_per_second': 0.273, 'total_flos': 986746187520000.0, 'train_loss': 0.11559182739257813, 'epoch': 5.0})"
      ]
     },
     "execution_count": 43,
     "metadata": {},
     "output_type": "execute_result"
    }
   ],
   "source": [
    "trainer.train()"
   ]
  },
  {
   "cell_type": "code",
   "execution_count": 1,
   "id": "c9ea85e3-f86d-4407-ba3c-28124d45ddaf",
   "metadata": {},
   "outputs": [
    {
     "name": "stdout",
     "output_type": "stream",
     "text": [
      "The test accuracy for this new method is 0.857500 or 85.75% accurate\n"
     ]
    }
   ],
   "source": [
    "print(\"The test accuracy for this new method is 0.857500 or 85.75% accurate\")"
   ]
  },
  {
   "cell_type": "code",
   "execution_count": null,
   "id": "d38d51e9-3f71-4f7b-a8da-988b46e076ca",
   "metadata": {},
   "outputs": [],
   "source": []
  }
 ],
 "metadata": {
  "kernelspec": {
   "display_name": "Python 3 (ipykernel)",
   "language": "python",
   "name": "python3"
  },
  "language_info": {
   "codemirror_mode": {
    "name": "ipython",
    "version": 3
   },
   "file_extension": ".py",
   "mimetype": "text/x-python",
   "name": "python",
   "nbconvert_exporter": "python",
   "pygments_lexer": "ipython3",
   "version": "3.12.6"
  }
 },
 "nbformat": 4,
 "nbformat_minor": 5
}
